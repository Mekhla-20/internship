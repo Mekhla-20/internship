{
 "cells": [
  {
   "cell_type": "code",
   "execution_count": 2,
   "id": "613e1837",
   "metadata": {
    "collapsed": true
   },
   "outputs": [
    {
     "name": "stdout",
     "output_type": "stream",
     "text": [
      "Collecting tensorflow\n",
      "  Downloading tensorflow-2.10.0-cp39-cp39-win_amd64.whl (455.9 MB)\n",
      "Collecting flatbuffers>=2.0\n",
      "  Downloading flatbuffers-22.10.26-py2.py3-none-any.whl (26 kB)\n",
      "Requirement already satisfied: wrapt>=1.11.0 in c:\\users\\user\\anaconda3\\lib\\site-packages (from tensorflow) (1.12.1)\n",
      "Collecting google-pasta>=0.1.1\n",
      "  Downloading google_pasta-0.2.0-py3-none-any.whl (57 kB)\n",
      "Requirement already satisfied: typing-extensions>=3.6.6 in c:\\users\\user\\anaconda3\\lib\\site-packages (from tensorflow) (4.4.0)\n",
      "Collecting grpcio<2.0,>=1.24.3\n",
      "  Downloading grpcio-1.50.0-cp39-cp39-win_amd64.whl (3.7 MB)\n",
      "Collecting protobuf<3.20,>=3.9.2\n",
      "  Downloading protobuf-3.19.6-cp39-cp39-win_amd64.whl (895 kB)\n",
      "Collecting absl-py>=1.0.0\n",
      "  Downloading absl_py-1.3.0-py3-none-any.whl (124 kB)\n",
      "Collecting libclang>=13.0.0\n",
      "  Downloading libclang-14.0.6-py2.py3-none-win_amd64.whl (14.2 MB)\n",
      "Collecting tensorflow-io-gcs-filesystem>=0.23.1\n",
      "  Downloading tensorflow_io_gcs_filesystem-0.27.0-cp39-cp39-win_amd64.whl (1.5 MB)\n",
      "Collecting keras<2.11,>=2.10.0\n",
      "  Downloading keras-2.10.0-py2.py3-none-any.whl (1.7 MB)\n",
      "Requirement already satisfied: setuptools in c:\\users\\user\\anaconda3\\lib\\site-packages (from tensorflow) (58.0.4)\n",
      "Requirement already satisfied: numpy>=1.20 in c:\\users\\user\\anaconda3\\lib\\site-packages (from tensorflow) (1.20.3)\n",
      "Collecting opt-einsum>=2.3.2\n",
      "  Downloading opt_einsum-3.3.0-py3-none-any.whl (65 kB)\n",
      "Collecting gast<=0.4.0,>=0.2.1\n",
      "  Downloading gast-0.4.0-py3-none-any.whl (9.8 kB)\n",
      "Collecting tensorflow-estimator<2.11,>=2.10.0\n",
      "  Downloading tensorflow_estimator-2.10.0-py2.py3-none-any.whl (438 kB)\n",
      "Collecting keras-preprocessing>=1.1.1\n",
      "  Downloading Keras_Preprocessing-1.1.2-py2.py3-none-any.whl (42 kB)\n",
      "Collecting termcolor>=1.1.0\n",
      "  Downloading termcolor-2.1.0-py3-none-any.whl (5.8 kB)\n",
      "Collecting astunparse>=1.6.0\n",
      "  Downloading astunparse-1.6.3-py2.py3-none-any.whl (12 kB)\n",
      "Collecting tensorboard<2.11,>=2.10\n",
      "  Downloading tensorboard-2.10.1-py3-none-any.whl (5.9 MB)\n",
      "Requirement already satisfied: six>=1.12.0 in c:\\users\\user\\anaconda3\\lib\\site-packages (from tensorflow) (1.16.0)\n",
      "Requirement already satisfied: h5py>=2.9.0 in c:\\users\\user\\anaconda3\\lib\\site-packages (from tensorflow) (3.2.1)\n",
      "Requirement already satisfied: packaging in c:\\users\\user\\anaconda3\\lib\\site-packages (from tensorflow) (21.0)\n",
      "Requirement already satisfied: wheel<1.0,>=0.23.0 in c:\\users\\user\\anaconda3\\lib\\site-packages (from astunparse>=1.6.0->tensorflow) (0.37.0)\n",
      "Collecting tensorboard-plugin-wit>=1.6.0\n",
      "  Downloading tensorboard_plugin_wit-1.8.1-py3-none-any.whl (781 kB)\n",
      "Collecting tensorboard-data-server<0.7.0,>=0.6.0\n",
      "  Downloading tensorboard_data_server-0.6.1-py3-none-any.whl (2.4 kB)\n",
      "Requirement already satisfied: werkzeug>=1.0.1 in c:\\users\\user\\anaconda3\\lib\\site-packages (from tensorboard<2.11,>=2.10->tensorflow) (2.0.2)\n",
      "Requirement already satisfied: requests<3,>=2.21.0 in c:\\users\\user\\anaconda3\\lib\\site-packages (from tensorboard<2.11,>=2.10->tensorflow) (2.26.0)\n",
      "Collecting google-auth<3,>=1.6.3\n",
      "  Downloading google_auth-2.14.0-py2.py3-none-any.whl (175 kB)\n",
      "Collecting google-auth-oauthlib<0.5,>=0.4.1\n",
      "  Downloading google_auth_oauthlib-0.4.6-py2.py3-none-any.whl (18 kB)\n",
      "Collecting markdown>=2.6.8\n",
      "  Downloading Markdown-3.4.1-py3-none-any.whl (93 kB)\n",
      "Collecting cachetools<6.0,>=2.0.0\n",
      "  Downloading cachetools-5.2.0-py3-none-any.whl (9.3 kB)\n",
      "Collecting pyasn1-modules>=0.2.1\n",
      "  Downloading pyasn1_modules-0.2.8-py2.py3-none-any.whl (155 kB)\n",
      "Collecting rsa<5,>=3.1.4\n",
      "  Downloading rsa-4.9-py3-none-any.whl (34 kB)\n",
      "Collecting requests-oauthlib>=0.7.0\n",
      "  Downloading requests_oauthlib-1.3.1-py2.py3-none-any.whl (23 kB)\n",
      "Requirement already satisfied: importlib-metadata>=4.4 in c:\\users\\user\\anaconda3\\lib\\site-packages (from markdown>=2.6.8->tensorboard<2.11,>=2.10->tensorflow) (4.8.1)\n",
      "Requirement already satisfied: zipp>=0.5 in c:\\users\\user\\anaconda3\\lib\\site-packages (from importlib-metadata>=4.4->markdown>=2.6.8->tensorboard<2.11,>=2.10->tensorflow) (3.6.0)\n",
      "Collecting pyasn1<0.5.0,>=0.4.6\n",
      "  Downloading pyasn1-0.4.8-py2.py3-none-any.whl (77 kB)\n",
      "Requirement already satisfied: urllib3<1.27,>=1.21.1 in c:\\users\\user\\anaconda3\\lib\\site-packages (from requests<3,>=2.21.0->tensorboard<2.11,>=2.10->tensorflow) (1.26.7)\n",
      "Requirement already satisfied: charset-normalizer~=2.0.0 in c:\\users\\user\\anaconda3\\lib\\site-packages (from requests<3,>=2.21.0->tensorboard<2.11,>=2.10->tensorflow) (2.0.4)\n",
      "Requirement already satisfied: idna<4,>=2.5 in c:\\users\\user\\anaconda3\\lib\\site-packages (from requests<3,>=2.21.0->tensorboard<2.11,>=2.10->tensorflow) (3.2)\n",
      "Requirement already satisfied: certifi>=2017.4.17 in c:\\users\\user\\anaconda3\\lib\\site-packages (from requests<3,>=2.21.0->tensorboard<2.11,>=2.10->tensorflow) (2021.10.8)\n",
      "Collecting oauthlib>=3.0.0\n",
      "  Downloading oauthlib-3.2.2-py3-none-any.whl (151 kB)\n",
      "Requirement already satisfied: pyparsing>=2.0.2 in c:\\users\\user\\anaconda3\\lib\\site-packages (from packaging->tensorflow) (3.0.4)\n",
      "Installing collected packages: pyasn1, rsa, pyasn1-modules, oauthlib, cachetools, requests-oauthlib, google-auth, tensorboard-plugin-wit, tensorboard-data-server, protobuf, markdown, grpcio, google-auth-oauthlib, absl-py, termcolor, tensorflow-io-gcs-filesystem, tensorflow-estimator, tensorboard, opt-einsum, libclang, keras-preprocessing, keras, google-pasta, gast, flatbuffers, astunparse, tensorflow\n",
      "Successfully installed absl-py-1.3.0 astunparse-1.6.3 cachetools-5.2.0 flatbuffers-22.10.26 gast-0.4.0 google-auth-2.14.0 google-auth-oauthlib-0.4.6 google-pasta-0.2.0 grpcio-1.50.0 keras-2.10.0 keras-preprocessing-1.1.2 libclang-14.0.6 markdown-3.4.1 oauthlib-3.2.2 opt-einsum-3.3.0 protobuf-3.19.6 pyasn1-0.4.8 pyasn1-modules-0.2.8 requests-oauthlib-1.3.1 rsa-4.9 tensorboard-2.10.1 tensorboard-data-server-0.6.1 tensorboard-plugin-wit-1.8.1 tensorflow-2.10.0 tensorflow-estimator-2.10.0 tensorflow-io-gcs-filesystem-0.27.0 termcolor-2.1.0\n"
     ]
    }
   ],
   "source": [
    "!pip install tensorflow"
   ]
  },
  {
   "cell_type": "code",
   "execution_count": 61,
   "id": "0ada8a90",
   "metadata": {},
   "outputs": [],
   "source": [
    "import tensorflow as tf\n",
    "from PIL import Image\n",
    "from tensorflow.keras import layers\n",
    "from tensorflow.keras.models import Sequential\n",
    "import pandas as pd\n",
    "import numpy as np\n",
    "import itertools\n",
    "import base64\n",
    "import io"
   ]
  },
  {
   "cell_type": "code",
   "execution_count": 22,
   "id": "f2c77fce",
   "metadata": {},
   "outputs": [],
   "source": [
    "attire=['jeans','saree','trousers']"
   ]
  },
  {
   "cell_type": "code",
   "execution_count": 23,
   "id": "ab35bac6",
   "metadata": {},
   "outputs": [],
   "source": [
    "args={'labels':'inferred', 'label_mode':'categorical','batch_size':32,'image_size':(256,256), 'seed':1,'validation_split':0.2,'class_names':attire}"
   ]
  },
  {
   "cell_type": "code",
   "execution_count": 24,
   "id": "1608850d",
   "metadata": {},
   "outputs": [
    {
     "name": "stdout",
     "output_type": "stream",
     "text": [
      "Found 1249 files belonging to 3 classes.\n",
      "Using 1000 files for training.\n"
     ]
    }
   ],
   "source": [
    "train_data=tf.keras.utils.image_dataset_from_directory(\"img_classifier\",subset='training',**args)"
   ]
  },
  {
   "cell_type": "code",
   "execution_count": 25,
   "id": "c3625170",
   "metadata": {},
   "outputs": [
    {
     "name": "stdout",
     "output_type": "stream",
     "text": [
      "Found 1249 files belonging to 3 classes.\n",
      "Using 249 files for validation.\n"
     ]
    }
   ],
   "source": [
    "test_data=tf.keras.utils.image_dataset_from_directory(\"img_classifier\",subset='validation',**args)"
   ]
  },
  {
   "cell_type": "code",
   "execution_count": 26,
   "id": "7ab207dd",
   "metadata": {},
   "outputs": [
    {
     "data": {
      "text/plain": [
       "<TakeDataset element_spec=(TensorSpec(shape=(None, 256, 256, 3), dtype=tf.float32, name=None), TensorSpec(shape=(None, 3), dtype=tf.float32, name=None))>"
      ]
     },
     "execution_count": 26,
     "metadata": {},
     "output_type": "execute_result"
    }
   ],
   "source": [
    "first=train_data.take(1) #takes the first batch of 32 images \n",
    "first"
   ]
  },
  {
   "cell_type": "code",
   "execution_count": 27,
   "id": "826ca4cb",
   "metadata": {},
   "outputs": [],
   "source": [
    "img,label =list(first)[0]  #getting the image and label from the first batch fetched above"
   ]
  },
  {
   "cell_type": "code",
   "execution_count": 28,
   "id": "49c345db",
   "metadata": {},
   "outputs": [
    {
     "data": {
      "text/plain": [
       "<tf.Tensor: shape=(256, 256, 3), dtype=float32, numpy=\n",
       "array([[[255.     , 255.     , 255.     ],\n",
       "        [255.     , 255.     , 255.     ],\n",
       "        [255.     , 255.     , 255.     ],\n",
       "        ...,\n",
       "        [255.     , 255.     , 255.     ],\n",
       "        [255.     , 255.     , 255.     ],\n",
       "        [255.     , 255.     , 255.     ]],\n",
       "\n",
       "       [[255.     , 255.     , 255.     ],\n",
       "        [255.     , 255.     , 255.     ],\n",
       "        [255.     , 255.     , 255.     ],\n",
       "        ...,\n",
       "        [255.     , 255.     , 255.     ],\n",
       "        [255.     , 255.     , 255.     ],\n",
       "        [255.     , 255.     , 255.     ]],\n",
       "\n",
       "       [[255.     , 255.     , 255.     ],\n",
       "        [255.     , 255.     , 255.     ],\n",
       "        [255.     , 255.     , 255.     ],\n",
       "        ...,\n",
       "        [255.     , 255.     , 255.     ],\n",
       "        [255.     , 255.     , 255.     ],\n",
       "        [255.     , 255.     , 255.     ]],\n",
       "\n",
       "       ...,\n",
       "\n",
       "       [[253.875  , 255.     , 248.5    ],\n",
       "        [253.875  , 255.     , 248.83203],\n",
       "        [253.875  , 255.     , 249.76172],\n",
       "        ...,\n",
       "        [255.     , 255.     , 255.     ],\n",
       "        [255.     , 255.     , 255.     ],\n",
       "        [255.     , 255.     , 255.     ]],\n",
       "\n",
       "       [[250.125  , 255.     , 247.25   ],\n",
       "        [250.125  , 255.     , 247.77734],\n",
       "        [250.125  , 255.     , 249.2539 ],\n",
       "        ...,\n",
       "        [255.     , 255.     , 255.     ],\n",
       "        [255.     , 255.     , 255.     ],\n",
       "        [255.     , 255.     , 255.     ]],\n",
       "\n",
       "       [[248.125  , 255.     , 249.75   ],\n",
       "        [248.125  , 255.     , 249.94531],\n",
       "        [248.125  , 255.     , 250.49219],\n",
       "        ...,\n",
       "        [255.     , 255.     , 255.     ],\n",
       "        [255.     , 255.     , 255.     ],\n",
       "        [255.     , 255.     , 255.     ]]], dtype=float32)>"
      ]
     },
     "execution_count": 28,
     "metadata": {},
     "output_type": "execute_result"
    }
   ],
   "source": [
    "first_img=img[0]     #getting the first image \n",
    "first_img"
   ]
  },
  {
   "cell_type": "code",
   "execution_count": 29,
   "id": "b9087531",
   "metadata": {},
   "outputs": [
    {
     "data": {
      "image/png": "[encoded data removed]",
      "text/plain": [
       "<PIL.Image.Image image mode=RGB size=256x256 at 0x217992A5730>"
      ]
     },
     "execution_count": 29,
     "metadata": {},
     "output_type": "execute_result"
    }
   ],
   "source": [
    "Image.fromarray(first_img.numpy().astype(\"uint8\")) #converting numpy array back to an image"
   ]
  },
  {
   "cell_type": "code",
   "execution_count": 30,
   "id": "e8c2002e",
   "metadata": {},
   "outputs": [
    {
     "data": {
      "text/plain": [
       "<tf.Tensor: shape=(3,), dtype=float32, numpy=array([0., 1., 0.], dtype=float32)>"
      ]
     },
     "execution_count": 30,
     "metadata": {},
     "output_type": "execute_result"
    }
   ],
   "source": [
    "label[0]"
   ]
  },
  {
   "cell_type": "code",
   "execution_count": 32,
   "id": "a283a301",
   "metadata": {},
   "outputs": [],
   "source": [
    "# prefetching the image from hard disk to cache for faster processing\n",
    "train_data=train_data.cache().prefetch(buffer_size=tf.data.AUTOTUNE)\n",
    "test_data=test_data.cache().prefetch(buffer_size=tf.data.AUTOTUNE)"
   ]
  },
  {
   "cell_type": "code",
   "execution_count": 34,
   "id": "89de1ab4",
   "metadata": {},
   "outputs": [],
   "source": [
    "#Creating neural network\n",
    "model=Sequential([\n",
    "    layers.Rescaling(1.0/255),             #rescaling each pixel of the image to the range 0 to 1.\n",
    "    layers.Conv2D(16,3,padding='same',activation='relu',input_shape=(256,256,3)),       #using Conv2D we are creating a convolution layer for feature extraction from the image, here we are applying filter 16 times and creating a window of 3 pixels\n",
    "    layers.Flatten(),                      #converting the convolution output containing many layers into one\n",
    "    layers.Dense(128,activation='relu'),   #generating dense layer after convolution layer\n",
    "    layers.Dense(len(attire))              #generating prediction layer\n",
    "])"
   ]
  },
  {
   "cell_type": "code",
   "execution_count": 35,
   "id": "10d0866c",
   "metadata": {},
   "outputs": [],
   "source": [
    "#compiling the model\n",
    "model.compile(optimizer='adam',\n",
    "             loss=tf.keras.losses.CategoricalCrossentropy(from_logits=True),     #for reducing wrong predictions\n",
    "             metrics=['accuracy']\n",
    "             )"
   ]
  },
  {
   "cell_type": "code",
   "execution_count": 36,
   "id": "f53e8fec",
   "metadata": {},
   "outputs": [
    {
     "name": "stdout",
     "output_type": "stream",
     "text": [
      "Epoch 1/5\n",
      "32/32 [==============================] - 28s 733ms/step - loss: 131.2925 - accuracy: 0.5030 - val_loss: 4.4211 - val_accuracy: 0.7912\n",
      "Epoch 2/5\n",
      "32/32 [==============================] - 23s 719ms/step - loss: 4.6430 - accuracy: 0.7920 - val_loss: 1.6158 - val_accuracy: 0.8233\n",
      "Epoch 3/5\n",
      "32/32 [==============================] - 22s 703ms/step - loss: 2.9251 - accuracy: 0.8090 - val_loss: 1.0033 - val_accuracy: 0.8916\n",
      "Epoch 4/5\n",
      "32/32 [==============================] - 23s 709ms/step - loss: 1.2165 - accuracy: 0.8980 - val_loss: 1.4048 - val_accuracy: 0.8554\n",
      "Epoch 5/5\n",
      "32/32 [==============================] - 23s 705ms/step - loss: 0.6857 - accuracy: 0.9190 - val_loss: 3.5934 - val_accuracy: 0.7309\n"
     ]
    }
   ],
   "source": [
    "#fitting the model\n",
    "history=model.fit(train_data,                      #training data\n",
    "                  validation_data=test_data,       #for validation we use test data\n",
    "                  epochs=5,                        #number of times model will be trained\n",
    "                  verbose=1                        #specifying how much output we will get from the model\n",
    "                 )"
   ]
  },
  {
   "cell_type": "markdown",
   "id": "2dbca7c3",
   "metadata": {},
   "source": [
    "We could notice validation accuracy after 5 epoch is 0.739 or 73%."
   ]
  },
  {
   "cell_type": "code",
   "execution_count": 37,
   "id": "d6b21b73",
   "metadata": {},
   "outputs": [
    {
     "name": "stdout",
     "output_type": "stream",
     "text": [
      "Model: \"sequential\"\n",
      "_________________________________________________________________\n",
      " Layer (type)                Output Shape              Param #   \n",
      "=================================================================\n",
      " rescaling (Rescaling)       (None, 256, 256, 3)       0         \n",
      "                                                                 \n",
      " conv2d (Conv2D)             (None, 256, 256, 16)      448       \n",
      "                                                                 \n",
      " flatten (Flatten)           (None, 1048576)           0         \n",
      "                                                                 \n",
      " dense (Dense)               (None, 128)               134217856 \n",
      "                                                                 \n",
      " dense_1 (Dense)             (None, 3)                 387       \n",
      "                                                                 \n",
      "=================================================================\n",
      "Total params: 134,218,691\n",
      "Trainable params: 134,218,691\n",
      "Non-trainable params: 0\n",
      "_________________________________________________________________\n"
     ]
    }
   ],
   "source": [
    "#Model summary\n",
    "model.summary()"
   ]
  },
  {
   "cell_type": "markdown",
   "id": "88317eb3",
   "metadata": {},
   "source": [
    "# Analysing Model Performance"
   ]
  },
  {
   "cell_type": "code",
   "execution_count": 39,
   "id": "c7f7329a",
   "metadata": {},
   "outputs": [
    {
     "data": {
      "text/html": [
       "<div>\n",
       "<style scoped>\n",
       "    .dataframe tbody tr th:only-of-type {\n",
       "        vertical-align: middle;\n",
       "    }\n",
       "\n",
       "    .dataframe tbody tr th {\n",
       "        vertical-align: top;\n",
       "    }\n",
       "\n",
       "    .dataframe thead th {\n",
       "        text-align: right;\n",
       "    }\n",
       "</style>\n",
       "<table border=\"1\" class=\"dataframe\">\n",
       "  <thead>\n",
       "    <tr style=\"text-align: right;\">\n",
       "      <th></th>\n",
       "      <th>accuracy</th>\n",
       "      <th>val_accuracy</th>\n",
       "    </tr>\n",
       "  </thead>\n",
       "  <tbody>\n",
       "    <tr>\n",
       "      <th>0</th>\n",
       "      <td>0.503</td>\n",
       "      <td>0.791165</td>\n",
       "    </tr>\n",
       "    <tr>\n",
       "      <th>1</th>\n",
       "      <td>0.792</td>\n",
       "      <td>0.823293</td>\n",
       "    </tr>\n",
       "    <tr>\n",
       "      <th>2</th>\n",
       "      <td>0.809</td>\n",
       "      <td>0.891566</td>\n",
       "    </tr>\n",
       "    <tr>\n",
       "      <th>3</th>\n",
       "      <td>0.898</td>\n",
       "      <td>0.855422</td>\n",
       "    </tr>\n",
       "    <tr>\n",
       "      <th>4</th>\n",
       "      <td>0.919</td>\n",
       "      <td>0.730924</td>\n",
       "    </tr>\n",
       "  </tbody>\n",
       "</table>\n",
       "</div>"
      ],
      "text/plain": [
       "   accuracy  val_accuracy\n",
       "0     0.503      0.791165\n",
       "1     0.792      0.823293\n",
       "2     0.809      0.891566\n",
       "3     0.898      0.855422\n",
       "4     0.919      0.730924"
      ]
     },
     "execution_count": 39,
     "metadata": {},
     "output_type": "execute_result"
    }
   ],
   "source": [
    "#Analysing the performance of the model by comparing train and validation accuracy and then plotting it\n",
    "df=pd.DataFrame.from_dict(history.history)\n",
    "df[['accuracy','val_accuracy']]"
   ]
  },
  {
   "cell_type": "code",
   "execution_count": 40,
   "id": "8ef9c1fa",
   "metadata": {},
   "outputs": [
    {
     "data": {
      "text/plain": [
       "<AxesSubplot:>"
      ]
     },
     "execution_count": 40,
     "metadata": {},
     "output_type": "execute_result"
    },
    {
     "data": {
      "image/png": "[encoded data removed]",
      "text/plain": [
       "<Figure size 432x288 with 1 Axes>"
      ]
     },
     "metadata": {
      "needs_background": "light"
     },
     "output_type": "display_data"
    }
   ],
   "source": [
    "#Plotting the graph for the same for better understanding\n",
    "df[['accuracy','val_accuracy']].plot()"
   ]
  },
  {
   "cell_type": "markdown",
   "id": "a2c3a1f9",
   "metadata": {},
   "source": [
    "From the graph above we could observe that the model is overfitting as the difference between accuracy and val_accuracy is higher in the last epoch so we would try to overcome this problem by changing few layes in our model."
   ]
  },
  {
   "cell_type": "code",
   "execution_count": 41,
   "id": "80d61c57",
   "metadata": {},
   "outputs": [],
   "source": [
    "def train_model(network,epochs=5):\n",
    "    model=Sequential(network)\n",
    "    \n",
    "    model.compile(optimizer='adam',\n",
    "             loss=tf.keras.losses.CategoricalCrossentropy(from_logits=True),     #for reducing wrong predictions\n",
    "             metrics=['accuracy']\n",
    "             )\n",
    "    \n",
    "    history=model.fit(train_data,                      #training data\n",
    "                  validation_data=test_data,       #for validation we use test data\n",
    "                  epochs=5,                        #number of times model will be trained\n",
    "                  verbose=1                        #specifying how much output we will get from the model\n",
    "                 )\n",
    "    \n",
    "    df=pd.DataFrame.from_dict(history.history)\n",
    "    return df,model"
   ]
  },
  {
   "cell_type": "code",
   "execution_count": 42,
   "id": "4e13d6dd",
   "metadata": {},
   "outputs": [
    {
     "name": "stdout",
     "output_type": "stream",
     "text": [
      "Epoch 1/5\n",
      "32/32 [==============================] - 19s 554ms/step - loss: 0.8806 - accuracy: 0.6380 - val_loss: 0.3960 - val_accuracy: 0.8474\n",
      "Epoch 2/5\n",
      "32/32 [==============================] - 17s 527ms/step - loss: 0.3280 - accuracy: 0.8710 - val_loss: 0.2751 - val_accuracy: 0.8956\n",
      "Epoch 3/5\n",
      "32/32 [==============================] - 17s 532ms/step - loss: 0.2274 - accuracy: 0.9160 - val_loss: 0.2512 - val_accuracy: 0.8996\n",
      "Epoch 4/5\n",
      "32/32 [==============================] - 17s 535ms/step - loss: 0.1337 - accuracy: 0.9530 - val_loss: 0.2621 - val_accuracy: 0.8956\n",
      "Epoch 5/5\n",
      "32/32 [==============================] - 17s 536ms/step - loss: 0.0772 - accuracy: 0.9750 - val_loss: 0.2628 - val_accuracy: 0.9197\n"
     ]
    }
   ],
   "source": [
    "network=[layers.Rescaling(1.0/255),             #rescaling each pixel of the image to the range 0 to 1.\n",
    "    layers.Conv2D(16,3,padding='same',activation='relu',input_shape=(256,256,3)),       #using Conv2D we are creating a convolution layer for feature extraction from the image, here we are applying filter 16 times and creating a window of 3 pixels\n",
    "    layers.MaxPooling2D(),                 #reduces the number of parameters\n",
    "    layers.Conv2D(32,3,padding='same',activation='relu',input_shape=(256,256,3)),\n",
    "    layers.MaxPooling2D(),     \n",
    "    layers.Conv2D(64,3,padding='same',activation='relu',input_shape=(256,256,3)), \n",
    "    layers.MaxPooling2D(),\n",
    "    layers.Flatten(),                      #converting the convolution output containing many layers into one\n",
    "    layers.Dense(128,activation='relu'),   #generating dense layer after convolution layer\n",
    "    layers.Dense(len(attire))]\n",
    "df,model=train_model(network)"
   ]
  },
  {
   "cell_type": "code",
   "execution_count": 43,
   "id": "78e079bf",
   "metadata": {},
   "outputs": [
    {
     "data": {
      "text/plain": [
       "<AxesSubplot:>"
      ]
     },
     "execution_count": 43,
     "metadata": {},
     "output_type": "execute_result"
    },
    {
     "data": {
      "image/png": "[encoded data removed]",
      "text/plain": [
       "<Figure size 432x288 with 1 Axes>"
      ]
     },
     "metadata": {
      "needs_background": "light"
     },
     "output_type": "display_data"
    }
   ],
   "source": [
    "df[['accuracy','val_accuracy']].plot()"
   ]
  },
  {
   "cell_type": "markdown",
   "id": "fbba9fe0",
   "metadata": {},
   "source": [
    "Now model seems perfect with val_accuracy = 0.9197"
   ]
  },
  {
   "cell_type": "code",
   "execution_count": 44,
   "id": "e6bb8d48",
   "metadata": {},
   "outputs": [
    {
     "name": "stdout",
     "output_type": "stream",
     "text": [
      "8/8 [==============================] - 4s 127ms/step\n"
     ]
    }
   ],
   "source": [
    "pred=model.predict(test_data)"
   ]
  },
  {
   "cell_type": "code",
   "execution_count": 46,
   "id": "c1c7b1f0",
   "metadata": {},
   "outputs": [],
   "source": [
    "pred_class=np.argmax(pred,axis=1)"
   ]
  },
  {
   "cell_type": "code",
   "execution_count": 47,
   "id": "97148998",
   "metadata": {},
   "outputs": [
    {
     "data": {
      "text/plain": [
       "array([1, 0, 2, 0, 2, 1, 1, 1, 1, 0, 2, 1, 2, 2, 1, 1, 0, 0, 1, 0, 1, 0,\n",
       "       1, 0, 2, 1, 1, 0, 0, 2, 0, 2, 2, 0, 1, 2, 1, 0, 2, 1, 1, 1, 1, 0,\n",
       "       0, 1, 1, 1, 1, 0, 2, 0, 0, 1, 2, 1, 2, 1, 1, 1, 1, 1, 1, 1, 1, 1,\n",
       "       0, 0, 1, 1, 2, 0, 1, 1, 1, 2, 0, 0, 2, 1, 1, 2, 2, 2, 2, 2, 2, 2,\n",
       "       0, 2, 0, 0, 0, 0, 2, 0, 0, 2, 0, 2, 0, 0, 2, 0, 2, 0, 1, 1, 0, 2,\n",
       "       2, 1, 0, 1, 0, 2, 2, 2, 1, 1, 2, 2, 0, 1, 1, 2, 0, 1, 0, 2, 1, 0,\n",
       "       1, 1, 1, 0, 2, 2, 2, 1, 1, 0, 2, 2, 1, 1, 1, 0, 1, 2, 2, 2, 0, 1,\n",
       "       1, 0, 1, 2, 0, 0, 2, 2, 1, 0, 1, 2, 2, 0, 2, 0, 2, 2, 2, 2, 0, 2,\n",
       "       0, 0, 2, 1, 2, 1, 1, 1, 1, 1, 0, 2, 0, 2, 2, 2, 1, 2, 1, 2, 0, 0,\n",
       "       2, 0, 0, 0, 2, 2, 1, 1, 1, 1, 1, 0, 0, 2, 1, 1, 2, 2, 1, 2, 2, 2,\n",
       "       1, 2, 2, 1, 1, 1, 2, 1, 2, 1, 1, 1, 1, 0, 1, 2, 1, 0, 1, 0, 1, 2,\n",
       "       1, 2, 0, 1, 2, 2, 2], dtype=int64)"
      ]
     },
     "execution_count": 47,
     "metadata": {},
     "output_type": "execute_result"
    }
   ],
   "source": [
    "pred_class"
   ]
  },
  {
   "cell_type": "code",
   "execution_count": 56,
   "id": "cd3b5c5e",
   "metadata": {},
   "outputs": [],
   "source": [
    "actual_class=np.concatenate([y for x,y in test_data],axis=0)"
   ]
  },
  {
   "cell_type": "code",
   "execution_count": 57,
   "id": "b618c23b",
   "metadata": {},
   "outputs": [],
   "source": [
    "actual_class=np.argmax(actual_class,axis=1)"
   ]
  },
  {
   "cell_type": "code",
   "execution_count": 52,
   "id": "77560192",
   "metadata": {},
   "outputs": [],
   "source": [
    "actual_img=[x.numpy().astype(\"uint8\") for x,y in test_data]\n",
    "actual_img=list(itertools.chain.from_iterable(actual_img))"
   ]
  },
  {
   "cell_type": "code",
   "execution_count": 53,
   "id": "8f08e6b7",
   "metadata": {},
   "outputs": [],
   "source": [
    "actual_img=[Image.fromarray(i) for i in actual_img]"
   ]
  },
  {
   "cell_type": "code",
   "execution_count": 58,
   "id": "765f2c71",
   "metadata": {},
   "outputs": [],
   "source": [
    "pred_df=pd.DataFrame(zip(pred_class,actual_class,actual_img),columns=[\"Predicted class\",'Actual class','Image'])\n",
    "pred_df['Predicted class']=pred_df['Predicted class'].apply(lambda i: attire[i])"
   ]
  },
  {
   "cell_type": "code",
   "execution_count": 59,
   "id": "6b3d7912",
   "metadata": {},
   "outputs": [],
   "source": [
    "pred_df['Actual class']=pred_df['Actual class'].apply(lambda i: attire[i])"
   ]
  },
  {
   "cell_type": "code",
   "execution_count": 60,
   "id": "2facf3e4",
   "metadata": {},
   "outputs": [
    {
     "data": {
      "text/html": [
       "<div>\n",
       "<style scoped>\n",
       "    .dataframe tbody tr th:only-of-type {\n",
       "        vertical-align: middle;\n",
       "    }\n",
       "\n",
       "    .dataframe tbody tr th {\n",
       "        vertical-align: top;\n",
       "    }\n",
       "\n",
       "    .dataframe thead th {\n",
       "        text-align: right;\n",
       "    }\n",
       "</style>\n",
       "<table border=\"1\" class=\"dataframe\">\n",
       "  <thead>\n",
       "    <tr style=\"text-align: right;\">\n",
       "      <th></th>\n",
       "      <th>Predicted class</th>\n",
       "      <th>Actual class</th>\n",
       "      <th>Image</th>\n",
       "    </tr>\n",
       "  </thead>\n",
       "  <tbody>\n",
       "    <tr>\n",
       "      <th>0</th>\n",
       "      <td>saree</td>\n",
       "      <td>saree</td>\n",
       "      <td>&lt;PIL.Image.Image image mode=RGB size=256x256 a...</td>\n",
       "    </tr>\n",
       "    <tr>\n",
       "      <th>1</th>\n",
       "      <td>jeans</td>\n",
       "      <td>jeans</td>\n",
       "      <td>&lt;PIL.Image.Image image mode=RGB size=256x256 a...</td>\n",
       "    </tr>\n",
       "    <tr>\n",
       "      <th>2</th>\n",
       "      <td>trousers</td>\n",
       "      <td>trousers</td>\n",
       "      <td>&lt;PIL.Image.Image image mode=RGB size=256x256 a...</td>\n",
       "    </tr>\n",
       "    <tr>\n",
       "      <th>3</th>\n",
       "      <td>jeans</td>\n",
       "      <td>jeans</td>\n",
       "      <td>&lt;PIL.Image.Image image mode=RGB size=256x256 a...</td>\n",
       "    </tr>\n",
       "    <tr>\n",
       "      <th>4</th>\n",
       "      <td>trousers</td>\n",
       "      <td>jeans</td>\n",
       "      <td>&lt;PIL.Image.Image image mode=RGB size=256x256 a...</td>\n",
       "    </tr>\n",
       "  </tbody>\n",
       "</table>\n",
       "</div>"
      ],
      "text/plain": [
       "  Predicted class Actual class  \\\n",
       "0           saree        saree   \n",
       "1           jeans        jeans   \n",
       "2        trousers     trousers   \n",
       "3           jeans        jeans   \n",
       "4        trousers        jeans   \n",
       "\n",
       "                                               Image  \n",
       "0  <PIL.Image.Image image mode=RGB size=256x256 a...  \n",
       "1  <PIL.Image.Image image mode=RGB size=256x256 a...  \n",
       "2  <PIL.Image.Image image mode=RGB size=256x256 a...  \n",
       "3  <PIL.Image.Image image mode=RGB size=256x256 a...  \n",
       "4  <PIL.Image.Image image mode=RGB size=256x256 a...  "
      ]
     },
     "execution_count": 60,
     "metadata": {},
     "output_type": "execute_result"
    }
   ],
   "source": [
    "pred_df.head()"
   ]
  }
 ],
 "metadata": {
  "kernelspec": {
   "display_name": "Python 3 (ipykernel)",
   "language": "python",
   "name": "python3"
  },
  "language_info": {
   "codemirror_mode": {
    "name": "ipython",
    "version": 3
   },
   "file_extension": ".py",
   "mimetype": "text/x-python",
   "name": "python",
   "nbconvert_exporter": "python",
   "pygments_lexer": "ipython3",
   "version": "3.9.7"
  }
 },
 "nbformat": 4,
 "nbformat_minor": 5
}
