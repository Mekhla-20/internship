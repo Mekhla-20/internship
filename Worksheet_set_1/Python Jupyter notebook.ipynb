{
 "cells": [
  {
   "cell_type": "code",
   "execution_count": 4,
   "id": "9a6b9344",
   "metadata": {},
   "outputs": [
    {
     "name": "stdout",
     "output_type": "stream",
     "text": [
      "Enter any number to find its factorial-6\n",
      "The factorial of 6 is 720\n"
     ]
    }
   ],
   "source": [
    "# Q11) Write a python program to find the factorial of a number.\n",
    "n=int(input(\"Enter any number to find its factorial-\"))\n",
    "f=1\n",
    "r=n+1\n",
    "for i in range(1,r):\n",
    "    f=f*i\n",
    "print(\"The factorial of {} is {}\".format(n,f))  "
   ]
  },
  {
   "cell_type": "code",
   "execution_count": 9,
   "id": "0708e265",
   "metadata": {},
   "outputs": [
    {
     "name": "stdout",
     "output_type": "stream",
     "text": [
      "Enter any number to find its factorial-71\n",
      "71 is a prime number\n"
     ]
    }
   ],
   "source": [
    "# Q12) Write a python program to find whether a number is prime or composite.\n",
    "n=int(input(\"Enter any number to find its factorial-\"))\n",
    "p=0\n",
    "for i in range(2,n):\n",
    "    if n%i==0:\n",
    "        p+=1\n",
    "if p!=0:\n",
    "    print(\"{} is a composite number\".format(n))\n",
    "else:\n",
    "    print(\"{} is a prime number\".format(n))"
   ]
  },
  {
   "cell_type": "code",
   "execution_count": 17,
   "id": "ede78185",
   "metadata": {},
   "outputs": [
    {
     "name": "stdout",
     "output_type": "stream",
     "text": [
      "Enter a string to check if it is palindrome or not-heleh\n",
      "['h', 'e', 'l', 'e', 'h']\n",
      "heleh is a palindrome\n"
     ]
    }
   ],
   "source": [
    "# Q13)Write a python program to check whether a given string is palindrome or not\n",
    "n=(input(\"Enter a string to check if it is palindrome or not-\"))\n",
    "text=list(n)\n",
    "text.reverse()\n",
    "if text==list(n):\n",
    "    print(\"{} is a palindrome\".format(n))\n",
    "else:\n",
    "    print(\"{} is not a palindrome\".format(n))"
   ]
  },
  {
   "cell_type": "code",
   "execution_count": 28,
   "id": "c2596974",
   "metadata": {},
   "outputs": [
    {
     "name": "stdout",
     "output_type": "stream",
     "text": [
      "Do you want to find hypertenuse? n/y-n\n",
      "Enter the value of hypertenuse of a right angle triangle-55\n",
      "Enter the value of non-hypertenuse side of a right angle triangle-23\n",
      "2496\n",
      "Second non-hypertenuse side is  49.95998398718719\n"
     ]
    }
   ],
   "source": [
    "# Q14)Write a Python program to get the third side of right-angled triangle from two given sides\n",
    "import math\n",
    "a=input(\"Do you want to find hypertenuse? n/y-\")\n",
    "if a=='y':\n",
    "    s1=int(input(\"Enter first non-hypertenuse side of a right angle triangle-\"))\n",
    "    s2=int(input(\"Enter second non-hypertenuse side of a right angle triangle-\"))\n",
    "    h=math.sqrt(s1**2+s2**2)\n",
    "    print(\"The hypertenuse is \",h)\n",
    "else:\n",
    "    hp=int(input(\"Enter the value of hypertenuse of a right angle triangle-\"))\n",
    "    side=int(input(\"Enter the value of non-hypertenuse side of a right angle triangle-\"))\n",
    "    print(hp**2-side**2)\n",
    "    s=math.sqrt(hp**2-side**2)\n",
    "    print(\"Second non-hypertenuse side is \",s)\n",
    "    \n",
    "    "
   ]
  },
  {
   "cell_type": "code",
   "execution_count": 51,
   "id": "188bd196",
   "metadata": {},
   "outputs": [
    {
     "name": "stdout",
     "output_type": "stream",
     "text": [
      "Enter any Stringgghjkgtnuyyl\n",
      "{'g': 3, 'h': 1, 'j': 1, 'k': 1, 't': 1, 'n': 1, 'u': 1, 'y': 2, 'l': 1}\n"
     ]
    }
   ],
   "source": [
    "# Q15)  Write a python program to print the frequency of each of the characters present in a given string.\n",
    "t=input(\"Enter any String-\")\n",
    "text=list(t)\n",
    "text2=list(t)\n",
    "dic={}\n",
    "c=0\n",
    "for item in text:\n",
    "    c=0\n",
    "    for i in text2:\n",
    "        if item==i:\n",
    "            c+=1\n",
    "            dic[item]=c\n",
    "print(dic)            "
   ]
  }
 ],
 "metadata": {
  "kernelspec": {
   "display_name": "Python 3 (ipykernel)",
   "language": "python",
   "name": "python3"
  },
  "language_info": {
   "codemirror_mode": {
    "name": "ipython",
    "version": 3
   },
   "file_extension": ".py",
   "mimetype": "text/x-python",
   "name": "python",
   "nbconvert_exporter": "python",
   "pygments_lexer": "ipython3",
   "version": "3.9.7"
  }
 },
 "nbformat": 4,
 "nbformat_minor": 5
}
