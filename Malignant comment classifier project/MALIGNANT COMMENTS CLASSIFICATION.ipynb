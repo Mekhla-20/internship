{
 "cells": [
  {
   "cell_type": "code",
   "execution_count": 1,
   "id": "d680bf6c",
   "metadata": {},
   "outputs": [],
   "source": [
    "import pandas as pd\n",
    "import numpy as np\n",
    "import matplotlib.pyplot as plt\n",
    "import seaborn as sns\n",
    "from sklearn.preprocessing import OrdinalEncoder\n",
    "from sklearn.preprocessing import LabelEncoder\n",
    "from statsmodels.stats.outliers_influence import variance_inflation_factor\n",
    "from scipy.stats import zscore\n",
    "from sklearn.model_selection import GridSearchCV\n",
    "from sklearn.preprocessing import StandardScaler\n",
    "from sklearn.preprocessing import power_transform\n",
    "from sklearn.model_selection import train_test_split\n",
    "from sklearn.model_selection import cross_val_score\n",
    "from sklearn import metrics\n",
    "from sklearn.metrics import roc_curve,auc,classification_report\n",
    "from sklearn.feature_extraction.text import TfidfVectorizer\n",
    "import warnings\n",
    "warnings.filterwarnings('ignore')"
   ]
  },
  {
   "cell_type": "code",
   "execution_count": 2,
   "id": "cf97585f",
   "metadata": {},
   "outputs": [],
   "source": [
    "from nltk.stem import WordNetLemmatizer\n",
    "import nltk\n",
    "from nltk.corpus import  stopwords\n",
    "import string"
   ]
  },
  {
   "cell_type": "code",
   "execution_count": 3,
   "id": "928705fc",
   "metadata": {},
   "outputs": [
    {
     "data": {
      "text/html": [
       "<div>\n",
       "<style scoped>\n",
       "    .dataframe tbody tr th:only-of-type {\n",
       "        vertical-align: middle;\n",
       "    }\n",
       "\n",
       "    .dataframe tbody tr th {\n",
       "        vertical-align: top;\n",
       "    }\n",
       "\n",
       "    .dataframe thead th {\n",
       "        text-align: right;\n",
       "    }\n",
       "</style>\n",
       "<table border=\"1\" class=\"dataframe\">\n",
       "  <thead>\n",
       "    <tr style=\"text-align: right;\">\n",
       "      <th></th>\n",
       "      <th>id</th>\n",
       "      <th>comment_text</th>\n",
       "      <th>malignant</th>\n",
       "      <th>highly_malignant</th>\n",
       "      <th>rude</th>\n",
       "      <th>threat</th>\n",
       "      <th>abuse</th>\n",
       "      <th>loathe</th>\n",
       "    </tr>\n",
       "  </thead>\n",
       "  <tbody>\n",
       "    <tr>\n",
       "      <th>0</th>\n",
       "      <td>0000997932d777bf</td>\n",
       "      <td>Explanation\\nWhy the edits made under my usern...</td>\n",
       "      <td>0</td>\n",
       "      <td>0</td>\n",
       "      <td>0</td>\n",
       "      <td>0</td>\n",
       "      <td>0</td>\n",
       "      <td>0</td>\n",
       "    </tr>\n",
       "    <tr>\n",
       "      <th>1</th>\n",
       "      <td>000103f0d9cfb60f</td>\n",
       "      <td>D'aww! He matches this background colour I'm s...</td>\n",
       "      <td>0</td>\n",
       "      <td>0</td>\n",
       "      <td>0</td>\n",
       "      <td>0</td>\n",
       "      <td>0</td>\n",
       "      <td>0</td>\n",
       "    </tr>\n",
       "    <tr>\n",
       "      <th>2</th>\n",
       "      <td>000113f07ec002fd</td>\n",
       "      <td>Hey man, I'm really not trying to edit war. It...</td>\n",
       "      <td>0</td>\n",
       "      <td>0</td>\n",
       "      <td>0</td>\n",
       "      <td>0</td>\n",
       "      <td>0</td>\n",
       "      <td>0</td>\n",
       "    </tr>\n",
       "    <tr>\n",
       "      <th>3</th>\n",
       "      <td>0001b41b1c6bb37e</td>\n",
       "      <td>\"\\nMore\\nI can't make any real suggestions on ...</td>\n",
       "      <td>0</td>\n",
       "      <td>0</td>\n",
       "      <td>0</td>\n",
       "      <td>0</td>\n",
       "      <td>0</td>\n",
       "      <td>0</td>\n",
       "    </tr>\n",
       "    <tr>\n",
       "      <th>4</th>\n",
       "      <td>0001d958c54c6e35</td>\n",
       "      <td>You, sir, are my hero. Any chance you remember...</td>\n",
       "      <td>0</td>\n",
       "      <td>0</td>\n",
       "      <td>0</td>\n",
       "      <td>0</td>\n",
       "      <td>0</td>\n",
       "      <td>0</td>\n",
       "    </tr>\n",
       "    <tr>\n",
       "      <th>5</th>\n",
       "      <td>00025465d4725e87</td>\n",
       "      <td>\"\\n\\nCongratulations from me as well, use the ...</td>\n",
       "      <td>0</td>\n",
       "      <td>0</td>\n",
       "      <td>0</td>\n",
       "      <td>0</td>\n",
       "      <td>0</td>\n",
       "      <td>0</td>\n",
       "    </tr>\n",
       "    <tr>\n",
       "      <th>6</th>\n",
       "      <td>0002bcb3da6cb337</td>\n",
       "      <td>COCKSUCKER BEFORE YOU PISS AROUND ON MY WORK</td>\n",
       "      <td>1</td>\n",
       "      <td>1</td>\n",
       "      <td>1</td>\n",
       "      <td>0</td>\n",
       "      <td>1</td>\n",
       "      <td>0</td>\n",
       "    </tr>\n",
       "    <tr>\n",
       "      <th>7</th>\n",
       "      <td>00031b1e95af7921</td>\n",
       "      <td>Your vandalism to the Matt Shirvington article...</td>\n",
       "      <td>0</td>\n",
       "      <td>0</td>\n",
       "      <td>0</td>\n",
       "      <td>0</td>\n",
       "      <td>0</td>\n",
       "      <td>0</td>\n",
       "    </tr>\n",
       "    <tr>\n",
       "      <th>8</th>\n",
       "      <td>00037261f536c51d</td>\n",
       "      <td>Sorry if the word 'nonsense' was offensive to ...</td>\n",
       "      <td>0</td>\n",
       "      <td>0</td>\n",
       "      <td>0</td>\n",
       "      <td>0</td>\n",
       "      <td>0</td>\n",
       "      <td>0</td>\n",
       "    </tr>\n",
       "    <tr>\n",
       "      <th>9</th>\n",
       "      <td>00040093b2687caa</td>\n",
       "      <td>alignment on this subject and which are contra...</td>\n",
       "      <td>0</td>\n",
       "      <td>0</td>\n",
       "      <td>0</td>\n",
       "      <td>0</td>\n",
       "      <td>0</td>\n",
       "      <td>0</td>\n",
       "    </tr>\n",
       "    <tr>\n",
       "      <th>10</th>\n",
       "      <td>0005300084f90edc</td>\n",
       "      <td>\"\\nFair use rationale for Image:Wonju.jpg\\n\\nT...</td>\n",
       "      <td>0</td>\n",
       "      <td>0</td>\n",
       "      <td>0</td>\n",
       "      <td>0</td>\n",
       "      <td>0</td>\n",
       "      <td>0</td>\n",
       "    </tr>\n",
       "    <tr>\n",
       "      <th>11</th>\n",
       "      <td>00054a5e18b50dd4</td>\n",
       "      <td>bbq \\n\\nbe a man and lets discuss it-maybe ove...</td>\n",
       "      <td>0</td>\n",
       "      <td>0</td>\n",
       "      <td>0</td>\n",
       "      <td>0</td>\n",
       "      <td>0</td>\n",
       "      <td>0</td>\n",
       "    </tr>\n",
       "    <tr>\n",
       "      <th>12</th>\n",
       "      <td>0005c987bdfc9d4b</td>\n",
       "      <td>Hey... what is it..\\n@ | talk .\\nWhat is it......</td>\n",
       "      <td>1</td>\n",
       "      <td>0</td>\n",
       "      <td>0</td>\n",
       "      <td>0</td>\n",
       "      <td>0</td>\n",
       "      <td>0</td>\n",
       "    </tr>\n",
       "    <tr>\n",
       "      <th>13</th>\n",
       "      <td>0006f16e4e9f292e</td>\n",
       "      <td>Before you start throwing accusations and warn...</td>\n",
       "      <td>0</td>\n",
       "      <td>0</td>\n",
       "      <td>0</td>\n",
       "      <td>0</td>\n",
       "      <td>0</td>\n",
       "      <td>0</td>\n",
       "    </tr>\n",
       "    <tr>\n",
       "      <th>14</th>\n",
       "      <td>00070ef96486d6f9</td>\n",
       "      <td>Oh, and the girl above started her arguments w...</td>\n",
       "      <td>0</td>\n",
       "      <td>0</td>\n",
       "      <td>0</td>\n",
       "      <td>0</td>\n",
       "      <td>0</td>\n",
       "      <td>0</td>\n",
       "    </tr>\n",
       "    <tr>\n",
       "      <th>15</th>\n",
       "      <td>00078f8ce7eb276d</td>\n",
       "      <td>\"\\n\\nJuelz Santanas Age\\n\\nIn 2002, Juelz Sant...</td>\n",
       "      <td>0</td>\n",
       "      <td>0</td>\n",
       "      <td>0</td>\n",
       "      <td>0</td>\n",
       "      <td>0</td>\n",
       "      <td>0</td>\n",
       "    </tr>\n",
       "    <tr>\n",
       "      <th>16</th>\n",
       "      <td>0007e25b2121310b</td>\n",
       "      <td>Bye! \\n\\nDon't look, come or think of comming ...</td>\n",
       "      <td>1</td>\n",
       "      <td>0</td>\n",
       "      <td>0</td>\n",
       "      <td>0</td>\n",
       "      <td>0</td>\n",
       "      <td>0</td>\n",
       "    </tr>\n",
       "    <tr>\n",
       "      <th>17</th>\n",
       "      <td>000897889268bc93</td>\n",
       "      <td>REDIRECT Talk:Voydan Pop Georgiev- Chernodrinski</td>\n",
       "      <td>0</td>\n",
       "      <td>0</td>\n",
       "      <td>0</td>\n",
       "      <td>0</td>\n",
       "      <td>0</td>\n",
       "      <td>0</td>\n",
       "    </tr>\n",
       "    <tr>\n",
       "      <th>18</th>\n",
       "      <td>0009801bd85e5806</td>\n",
       "      <td>The Mitsurugi point made no sense - why not ar...</td>\n",
       "      <td>0</td>\n",
       "      <td>0</td>\n",
       "      <td>0</td>\n",
       "      <td>0</td>\n",
       "      <td>0</td>\n",
       "      <td>0</td>\n",
       "    </tr>\n",
       "    <tr>\n",
       "      <th>19</th>\n",
       "      <td>0009eaea3325de8c</td>\n",
       "      <td>Don't mean to bother you \\n\\nI see that you're...</td>\n",
       "      <td>0</td>\n",
       "      <td>0</td>\n",
       "      <td>0</td>\n",
       "      <td>0</td>\n",
       "      <td>0</td>\n",
       "      <td>0</td>\n",
       "    </tr>\n",
       "    <tr>\n",
       "      <th>20</th>\n",
       "      <td>000b08c464718505</td>\n",
       "      <td>\"\\n\\n Regarding your recent edits \\n\\nOnce aga...</td>\n",
       "      <td>0</td>\n",
       "      <td>0</td>\n",
       "      <td>0</td>\n",
       "      <td>0</td>\n",
       "      <td>0</td>\n",
       "      <td>0</td>\n",
       "    </tr>\n",
       "    <tr>\n",
       "      <th>21</th>\n",
       "      <td>000bfd0867774845</td>\n",
       "      <td>\"\\nGood to know. About me, yeah, I'm studying ...</td>\n",
       "      <td>0</td>\n",
       "      <td>0</td>\n",
       "      <td>0</td>\n",
       "      <td>0</td>\n",
       "      <td>0</td>\n",
       "      <td>0</td>\n",
       "    </tr>\n",
       "    <tr>\n",
       "      <th>22</th>\n",
       "      <td>000c0dfd995809fa</td>\n",
       "      <td>\"\\n\\n Snowflakes are NOT always symmetrical! \\...</td>\n",
       "      <td>0</td>\n",
       "      <td>0</td>\n",
       "      <td>0</td>\n",
       "      <td>0</td>\n",
       "      <td>0</td>\n",
       "      <td>0</td>\n",
       "    </tr>\n",
       "    <tr>\n",
       "      <th>23</th>\n",
       "      <td>000c6a3f0cd3ba8e</td>\n",
       "      <td>\"\\n\\n The Signpost: 24 September 2012 \\n\\n Rea...</td>\n",
       "      <td>0</td>\n",
       "      <td>0</td>\n",
       "      <td>0</td>\n",
       "      <td>0</td>\n",
       "      <td>0</td>\n",
       "      <td>0</td>\n",
       "    </tr>\n",
       "    <tr>\n",
       "      <th>24</th>\n",
       "      <td>000cfee90f50d471</td>\n",
       "      <td>\"\\n\\nRe-considering 1st paragraph edit?\\nI don...</td>\n",
       "      <td>0</td>\n",
       "      <td>0</td>\n",
       "      <td>0</td>\n",
       "      <td>0</td>\n",
       "      <td>0</td>\n",
       "      <td>0</td>\n",
       "    </tr>\n",
       "    <tr>\n",
       "      <th>25</th>\n",
       "      <td>000eefc67a2c930f</td>\n",
       "      <td>Radial symmetry \\n\\nSeveral now extinct lineag...</td>\n",
       "      <td>0</td>\n",
       "      <td>0</td>\n",
       "      <td>0</td>\n",
       "      <td>0</td>\n",
       "      <td>0</td>\n",
       "      <td>0</td>\n",
       "    </tr>\n",
       "    <tr>\n",
       "      <th>26</th>\n",
       "      <td>000f35deef84dc4a</td>\n",
       "      <td>There's no need to apologize. A Wikipedia arti...</td>\n",
       "      <td>0</td>\n",
       "      <td>0</td>\n",
       "      <td>0</td>\n",
       "      <td>0</td>\n",
       "      <td>0</td>\n",
       "      <td>0</td>\n",
       "    </tr>\n",
       "    <tr>\n",
       "      <th>27</th>\n",
       "      <td>000ffab30195c5e1</td>\n",
       "      <td>Yes, because the mother of the child in the ca...</td>\n",
       "      <td>0</td>\n",
       "      <td>0</td>\n",
       "      <td>0</td>\n",
       "      <td>0</td>\n",
       "      <td>0</td>\n",
       "      <td>0</td>\n",
       "    </tr>\n",
       "    <tr>\n",
       "      <th>28</th>\n",
       "      <td>0010307a3a50a353</td>\n",
       "      <td>\"\\nOk. But it will take a bit of work but I ca...</td>\n",
       "      <td>0</td>\n",
       "      <td>0</td>\n",
       "      <td>0</td>\n",
       "      <td>0</td>\n",
       "      <td>0</td>\n",
       "      <td>0</td>\n",
       "    </tr>\n",
       "    <tr>\n",
       "      <th>29</th>\n",
       "      <td>0010833a96e1f886</td>\n",
       "      <td>\"== A barnstar for you! ==\\n\\n  The Real Life ...</td>\n",
       "      <td>0</td>\n",
       "      <td>0</td>\n",
       "      <td>0</td>\n",
       "      <td>0</td>\n",
       "      <td>0</td>\n",
       "      <td>0</td>\n",
       "    </tr>\n",
       "  </tbody>\n",
       "</table>\n",
       "</div>"
      ],
      "text/plain": [
       "                  id                                       comment_text  \\\n",
       "0   0000997932d777bf  Explanation\\nWhy the edits made under my usern...   \n",
       "1   000103f0d9cfb60f  D'aww! He matches this background colour I'm s...   \n",
       "2   000113f07ec002fd  Hey man, I'm really not trying to edit war. It...   \n",
       "3   0001b41b1c6bb37e  \"\\nMore\\nI can't make any real suggestions on ...   \n",
       "4   0001d958c54c6e35  You, sir, are my hero. Any chance you remember...   \n",
       "5   00025465d4725e87  \"\\n\\nCongratulations from me as well, use the ...   \n",
       "6   0002bcb3da6cb337       COCKSUCKER BEFORE YOU PISS AROUND ON MY WORK   \n",
       "7   00031b1e95af7921  Your vandalism to the Matt Shirvington article...   \n",
       "8   00037261f536c51d  Sorry if the word 'nonsense' was offensive to ...   \n",
       "9   00040093b2687caa  alignment on this subject and which are contra...   \n",
       "10  0005300084f90edc  \"\\nFair use rationale for Image:Wonju.jpg\\n\\nT...   \n",
       "11  00054a5e18b50dd4  bbq \\n\\nbe a man and lets discuss it-maybe ove...   \n",
       "12  0005c987bdfc9d4b  Hey... what is it..\\n@ | talk .\\nWhat is it......   \n",
       "13  0006f16e4e9f292e  Before you start throwing accusations and warn...   \n",
       "14  00070ef96486d6f9  Oh, and the girl above started her arguments w...   \n",
       "15  00078f8ce7eb276d  \"\\n\\nJuelz Santanas Age\\n\\nIn 2002, Juelz Sant...   \n",
       "16  0007e25b2121310b  Bye! \\n\\nDon't look, come or think of comming ...   \n",
       "17  000897889268bc93   REDIRECT Talk:Voydan Pop Georgiev- Chernodrinski   \n",
       "18  0009801bd85e5806  The Mitsurugi point made no sense - why not ar...   \n",
       "19  0009eaea3325de8c  Don't mean to bother you \\n\\nI see that you're...   \n",
       "20  000b08c464718505  \"\\n\\n Regarding your recent edits \\n\\nOnce aga...   \n",
       "21  000bfd0867774845  \"\\nGood to know. About me, yeah, I'm studying ...   \n",
       "22  000c0dfd995809fa  \"\\n\\n Snowflakes are NOT always symmetrical! \\...   \n",
       "23  000c6a3f0cd3ba8e  \"\\n\\n The Signpost: 24 September 2012 \\n\\n Rea...   \n",
       "24  000cfee90f50d471  \"\\n\\nRe-considering 1st paragraph edit?\\nI don...   \n",
       "25  000eefc67a2c930f  Radial symmetry \\n\\nSeveral now extinct lineag...   \n",
       "26  000f35deef84dc4a  There's no need to apologize. A Wikipedia arti...   \n",
       "27  000ffab30195c5e1  Yes, because the mother of the child in the ca...   \n",
       "28  0010307a3a50a353  \"\\nOk. But it will take a bit of work but I ca...   \n",
       "29  0010833a96e1f886  \"== A barnstar for you! ==\\n\\n  The Real Life ...   \n",
       "\n",
       "    malignant  highly_malignant  rude  threat  abuse  loathe  \n",
       "0           0                 0     0       0      0       0  \n",
       "1           0                 0     0       0      0       0  \n",
       "2           0                 0     0       0      0       0  \n",
       "3           0                 0     0       0      0       0  \n",
       "4           0                 0     0       0      0       0  \n",
       "5           0                 0     0       0      0       0  \n",
       "6           1                 1     1       0      1       0  \n",
       "7           0                 0     0       0      0       0  \n",
       "8           0                 0     0       0      0       0  \n",
       "9           0                 0     0       0      0       0  \n",
       "10          0                 0     0       0      0       0  \n",
       "11          0                 0     0       0      0       0  \n",
       "12          1                 0     0       0      0       0  \n",
       "13          0                 0     0       0      0       0  \n",
       "14          0                 0     0       0      0       0  \n",
       "15          0                 0     0       0      0       0  \n",
       "16          1                 0     0       0      0       0  \n",
       "17          0                 0     0       0      0       0  \n",
       "18          0                 0     0       0      0       0  \n",
       "19          0                 0     0       0      0       0  \n",
       "20          0                 0     0       0      0       0  \n",
       "21          0                 0     0       0      0       0  \n",
       "22          0                 0     0       0      0       0  \n",
       "23          0                 0     0       0      0       0  \n",
       "24          0                 0     0       0      0       0  \n",
       "25          0                 0     0       0      0       0  \n",
       "26          0                 0     0       0      0       0  \n",
       "27          0                 0     0       0      0       0  \n",
       "28          0                 0     0       0      0       0  \n",
       "29          0                 0     0       0      0       0  "
      ]
     },
     "execution_count": 3,
     "metadata": {},
     "output_type": "execute_result"
    }
   ],
   "source": [
    "df=pd.read_csv(r\"C:\\Users\\user\\Downloads\\Malignant-Comments-Classifier-Project\\Malignant Comments Classifier Project\\train.csv\")\n",
    "df.head(30)"
   ]
  },
  {
   "cell_type": "markdown",
   "id": "1c19a7a4",
   "metadata": {},
   "source": [
    "## Checking nulls and info"
   ]
  },
  {
   "cell_type": "code",
   "execution_count": 4,
   "id": "e099ff52",
   "metadata": {},
   "outputs": [
    {
     "name": "stdout",
     "output_type": "stream",
     "text": [
      "<class 'pandas.core.frame.DataFrame'>\n",
      "RangeIndex: 159571 entries, 0 to 159570\n",
      "Data columns (total 8 columns):\n",
      " #   Column            Non-Null Count   Dtype \n",
      "---  ------            --------------   ----- \n",
      " 0   id                159571 non-null  object\n",
      " 1   comment_text      159571 non-null  object\n",
      " 2   malignant         159571 non-null  int64 \n",
      " 3   highly_malignant  159571 non-null  int64 \n",
      " 4   rude              159571 non-null  int64 \n",
      " 5   threat            159571 non-null  int64 \n",
      " 6   abuse             159571 non-null  int64 \n",
      " 7   loathe            159571 non-null  int64 \n",
      "dtypes: int64(6), object(2)\n",
      "memory usage: 9.7+ MB\n"
     ]
    }
   ],
   "source": [
    "df.info()"
   ]
  },
  {
   "cell_type": "markdown",
   "id": "49b7068f",
   "metadata": {},
   "source": [
    "no null values present."
   ]
  },
  {
   "cell_type": "markdown",
   "id": "43259e54",
   "metadata": {},
   "source": [
    "## Relationship between features"
   ]
  },
  {
   "cell_type": "code",
   "execution_count": 5,
   "id": "6dc13d4c",
   "metadata": {
    "scrolled": true
   },
   "outputs": [
    {
     "data": {
      "image/png": "[encoded data removed]",
      "text/plain": [
       "<Figure size 432x288 with 1 Axes>"
      ]
     },
     "metadata": {
      "needs_background": "light"
     },
     "output_type": "display_data"
    },
    {
     "data": {
      "image/png": "[encoded data removed]",
      "text/plain": [
       "<Figure size 432x288 with 1 Axes>"
      ]
     },
     "metadata": {
      "needs_background": "light"
     },
     "output_type": "display_data"
    },
    {
     "data": {
      "image/png": "[encoded data removed]",
      "text/plain": [
       "<Figure size 432x288 with 1 Axes>"
      ]
     },
     "metadata": {
      "needs_background": "light"
     },
     "output_type": "display_data"
    },
    {
     "data": {
      "image/png": "[encoded data removed]",
      "text/plain": [
       "<Figure size 432x288 with 1 Axes>"
      ]
     },
     "metadata": {
      "needs_background": "light"
     },
     "output_type": "display_data"
    },
    {
     "data": {
      "image/png": "[encoded data removed]",
      "text/plain": [
       "<Figure size 432x288 with 1 Axes>"
      ]
     },
     "metadata": {
      "needs_background": "light"
     },
     "output_type": "display_data"
    }
   ],
   "source": [
    "category=['highly_malignant','rude','threat','abuse','loathe']\n",
    "#Plotting count plot for each feature\n",
    "for i in category:\n",
    "    a=sns.countplot(x=df[i],hue=df['malignant'],data=df)\n",
    "    plt.xlabel(i)\n",
    "    plt.xticks(rotation=90)\n",
    "    plt.show()"
   ]
  },
  {
   "cell_type": "markdown",
   "id": "a4fbb347",
   "metadata": {},
   "source": [
    "## Describing the data"
   ]
  },
  {
   "cell_type": "code",
   "execution_count": 14,
   "id": "79a7984d",
   "metadata": {},
   "outputs": [
    {
     "data": {
      "text/html": [
       "<div>\n",
       "<style scoped>\n",
       "    .dataframe tbody tr th:only-of-type {\n",
       "        vertical-align: middle;\n",
       "    }\n",
       "\n",
       "    .dataframe tbody tr th {\n",
       "        vertical-align: top;\n",
       "    }\n",
       "\n",
       "    .dataframe thead th {\n",
       "        text-align: right;\n",
       "    }\n",
       "</style>\n",
       "<table border=\"1\" class=\"dataframe\">\n",
       "  <thead>\n",
       "    <tr style=\"text-align: right;\">\n",
       "      <th></th>\n",
       "      <th>malignant</th>\n",
       "      <th>highly_malignant</th>\n",
       "      <th>rude</th>\n",
       "      <th>threat</th>\n",
       "      <th>abuse</th>\n",
       "      <th>loathe</th>\n",
       "    </tr>\n",
       "  </thead>\n",
       "  <tbody>\n",
       "    <tr>\n",
       "      <th>count</th>\n",
       "      <td>159571.000000</td>\n",
       "      <td>159571.000000</td>\n",
       "      <td>159571.000000</td>\n",
       "      <td>159571.000000</td>\n",
       "      <td>159571.000000</td>\n",
       "      <td>159571.000000</td>\n",
       "    </tr>\n",
       "    <tr>\n",
       "      <th>mean</th>\n",
       "      <td>0.095844</td>\n",
       "      <td>0.009996</td>\n",
       "      <td>0.052948</td>\n",
       "      <td>0.002996</td>\n",
       "      <td>0.049364</td>\n",
       "      <td>0.008805</td>\n",
       "    </tr>\n",
       "    <tr>\n",
       "      <th>std</th>\n",
       "      <td>0.294379</td>\n",
       "      <td>0.099477</td>\n",
       "      <td>0.223931</td>\n",
       "      <td>0.054650</td>\n",
       "      <td>0.216627</td>\n",
       "      <td>0.093420</td>\n",
       "    </tr>\n",
       "    <tr>\n",
       "      <th>min</th>\n",
       "      <td>0.000000</td>\n",
       "      <td>0.000000</td>\n",
       "      <td>0.000000</td>\n",
       "      <td>0.000000</td>\n",
       "      <td>0.000000</td>\n",
       "      <td>0.000000</td>\n",
       "    </tr>\n",
       "    <tr>\n",
       "      <th>25%</th>\n",
       "      <td>0.000000</td>\n",
       "      <td>0.000000</td>\n",
       "      <td>0.000000</td>\n",
       "      <td>0.000000</td>\n",
       "      <td>0.000000</td>\n",
       "      <td>0.000000</td>\n",
       "    </tr>\n",
       "    <tr>\n",
       "      <th>50%</th>\n",
       "      <td>0.000000</td>\n",
       "      <td>0.000000</td>\n",
       "      <td>0.000000</td>\n",
       "      <td>0.000000</td>\n",
       "      <td>0.000000</td>\n",
       "      <td>0.000000</td>\n",
       "    </tr>\n",
       "    <tr>\n",
       "      <th>75%</th>\n",
       "      <td>0.000000</td>\n",
       "      <td>0.000000</td>\n",
       "      <td>0.000000</td>\n",
       "      <td>0.000000</td>\n",
       "      <td>0.000000</td>\n",
       "      <td>0.000000</td>\n",
       "    </tr>\n",
       "    <tr>\n",
       "      <th>max</th>\n",
       "      <td>1.000000</td>\n",
       "      <td>1.000000</td>\n",
       "      <td>1.000000</td>\n",
       "      <td>1.000000</td>\n",
       "      <td>1.000000</td>\n",
       "      <td>1.000000</td>\n",
       "    </tr>\n",
       "  </tbody>\n",
       "</table>\n",
       "</div>"
      ],
      "text/plain": [
       "           malignant  highly_malignant           rude         threat  \\\n",
       "count  159571.000000     159571.000000  159571.000000  159571.000000   \n",
       "mean        0.095844          0.009996       0.052948       0.002996   \n",
       "std         0.294379          0.099477       0.223931       0.054650   \n",
       "min         0.000000          0.000000       0.000000       0.000000   \n",
       "25%         0.000000          0.000000       0.000000       0.000000   \n",
       "50%         0.000000          0.000000       0.000000       0.000000   \n",
       "75%         0.000000          0.000000       0.000000       0.000000   \n",
       "max         1.000000          1.000000       1.000000       1.000000   \n",
       "\n",
       "               abuse         loathe  \n",
       "count  159571.000000  159571.000000  \n",
       "mean        0.049364       0.008805  \n",
       "std         0.216627       0.093420  \n",
       "min         0.000000       0.000000  \n",
       "25%         0.000000       0.000000  \n",
       "50%         0.000000       0.000000  \n",
       "75%         0.000000       0.000000  \n",
       "max         1.000000       1.000000  "
      ]
     },
     "execution_count": 14,
     "metadata": {},
     "output_type": "execute_result"
    }
   ],
   "source": [
    "df.describe()"
   ]
  },
  {
   "cell_type": "markdown",
   "id": "809f3ff9",
   "metadata": {},
   "source": [
    "## Checking correlation between features"
   ]
  },
  {
   "cell_type": "code",
   "execution_count": 15,
   "id": "0de16b18",
   "metadata": {},
   "outputs": [
    {
     "data": {
      "text/html": [
       "<div>\n",
       "<style scoped>\n",
       "    .dataframe tbody tr th:only-of-type {\n",
       "        vertical-align: middle;\n",
       "    }\n",
       "\n",
       "    .dataframe tbody tr th {\n",
       "        vertical-align: top;\n",
       "    }\n",
       "\n",
       "    .dataframe thead th {\n",
       "        text-align: right;\n",
       "    }\n",
       "</style>\n",
       "<table border=\"1\" class=\"dataframe\">\n",
       "  <thead>\n",
       "    <tr style=\"text-align: right;\">\n",
       "      <th></th>\n",
       "      <th>malignant</th>\n",
       "      <th>highly_malignant</th>\n",
       "      <th>rude</th>\n",
       "      <th>threat</th>\n",
       "      <th>abuse</th>\n",
       "      <th>loathe</th>\n",
       "    </tr>\n",
       "  </thead>\n",
       "  <tbody>\n",
       "    <tr>\n",
       "      <th>malignant</th>\n",
       "      <td>1.000000</td>\n",
       "      <td>0.308619</td>\n",
       "      <td>0.676515</td>\n",
       "      <td>0.157058</td>\n",
       "      <td>0.647518</td>\n",
       "      <td>0.266009</td>\n",
       "    </tr>\n",
       "    <tr>\n",
       "      <th>highly_malignant</th>\n",
       "      <td>0.308619</td>\n",
       "      <td>1.000000</td>\n",
       "      <td>0.403014</td>\n",
       "      <td>0.123601</td>\n",
       "      <td>0.375807</td>\n",
       "      <td>0.201600</td>\n",
       "    </tr>\n",
       "    <tr>\n",
       "      <th>rude</th>\n",
       "      <td>0.676515</td>\n",
       "      <td>0.403014</td>\n",
       "      <td>1.000000</td>\n",
       "      <td>0.141179</td>\n",
       "      <td>0.741272</td>\n",
       "      <td>0.286867</td>\n",
       "    </tr>\n",
       "    <tr>\n",
       "      <th>threat</th>\n",
       "      <td>0.157058</td>\n",
       "      <td>0.123601</td>\n",
       "      <td>0.141179</td>\n",
       "      <td>1.000000</td>\n",
       "      <td>0.150022</td>\n",
       "      <td>0.115128</td>\n",
       "    </tr>\n",
       "    <tr>\n",
       "      <th>abuse</th>\n",
       "      <td>0.647518</td>\n",
       "      <td>0.375807</td>\n",
       "      <td>0.741272</td>\n",
       "      <td>0.150022</td>\n",
       "      <td>1.000000</td>\n",
       "      <td>0.337736</td>\n",
       "    </tr>\n",
       "    <tr>\n",
       "      <th>loathe</th>\n",
       "      <td>0.266009</td>\n",
       "      <td>0.201600</td>\n",
       "      <td>0.286867</td>\n",
       "      <td>0.115128</td>\n",
       "      <td>0.337736</td>\n",
       "      <td>1.000000</td>\n",
       "    </tr>\n",
       "  </tbody>\n",
       "</table>\n",
       "</div>"
      ],
      "text/plain": [
       "                  malignant  highly_malignant      rude    threat     abuse  \\\n",
       "malignant          1.000000          0.308619  0.676515  0.157058  0.647518   \n",
       "highly_malignant   0.308619          1.000000  0.403014  0.123601  0.375807   \n",
       "rude               0.676515          0.403014  1.000000  0.141179  0.741272   \n",
       "threat             0.157058          0.123601  0.141179  1.000000  0.150022   \n",
       "abuse              0.647518          0.375807  0.741272  0.150022  1.000000   \n",
       "loathe             0.266009          0.201600  0.286867  0.115128  0.337736   \n",
       "\n",
       "                    loathe  \n",
       "malignant         0.266009  \n",
       "highly_malignant  0.201600  \n",
       "rude              0.286867  \n",
       "threat            0.115128  \n",
       "abuse             0.337736  \n",
       "loathe            1.000000  "
      ]
     },
     "execution_count": 15,
     "metadata": {},
     "output_type": "execute_result"
    }
   ],
   "source": [
    "df.corr().abs()"
   ]
  },
  {
   "cell_type": "code",
   "execution_count": 20,
   "id": "a830f653",
   "metadata": {},
   "outputs": [
    {
     "data": {
      "text/plain": [
       "<AxesSubplot:>"
      ]
     },
     "execution_count": 20,
     "metadata": {},
     "output_type": "execute_result"
    },
    {
     "data": {
      "image/png": "[encoded data removed]",
      "text/plain": [
       "<Figure size 1440x720 with 2 Axes>"
      ]
     },
     "metadata": {},
     "output_type": "display_data"
    }
   ],
   "source": [
    "# Plotting heat map for better analysis\n",
    "sns.set(font_scale=2)\n",
    "plt.figure(figsize=(20,10))\n",
    "sns.heatmap(df.corr().abs(),annot=True,linewidth=0.5,linecolor='black',fmt='.2f')"
   ]
  },
  {
   "cell_type": "markdown",
   "id": "f569b466",
   "metadata": {},
   "source": [
    "It doesnot seem that multicollinearity exists. Since all are the categorical features so we dont need to check for outliers and skewness."
   ]
  },
  {
   "cell_type": "markdown",
   "id": "27e27ee1",
   "metadata": {},
   "source": [
    "## Data Balancing"
   ]
  },
  {
   "cell_type": "code",
   "execution_count": 18,
   "id": "5f6286ea",
   "metadata": {},
   "outputs": [
    {
     "data": {
      "text/plain": [
       "0    144277\n",
       "1     15294\n",
       "Name: malignant, dtype: int64"
      ]
     },
     "execution_count": 18,
     "metadata": {},
     "output_type": "execute_result"
    }
   ],
   "source": [
    "df['malignant'].value_counts()"
   ]
  },
  {
   "cell_type": "markdown",
   "id": "7f1d5128",
   "metadata": {},
   "source": [
    "Data is highly imbalanced so we would balance it now."
   ]
  },
  {
   "cell_type": "code",
   "execution_count": 19,
   "id": "a66788da",
   "metadata": {},
   "outputs": [
    {
     "data": {
      "text/plain": [
       "0    144277\n",
       "1    144277\n",
       "Name: malignant, dtype: int64"
      ]
     },
     "execution_count": 19,
     "metadata": {},
     "output_type": "execute_result"
    }
   ],
   "source": [
    "from sklearn.utils import resample\n",
    "\n",
    "NoMalignant=df[df.malignant==0]\n",
    "YesMalignant=df[df.malignant==1]\n",
    "Yes_upsampled=resample(YesMalignant,replace=True,n_samples=len(NoMalignant),random_state=27)\n",
    "df_up=pd.concat([NoMalignant,Yes_upsampled])\n",
    "df_up['malignant'].value_counts()"
   ]
  },
  {
   "cell_type": "markdown",
   "id": "10b7e2c0",
   "metadata": {},
   "source": [
    "## Feature engineering "
   ]
  },
  {
   "cell_type": "markdown",
   "id": "4b7655f7",
   "metadata": {},
   "source": [
    "Analysing comment_text feature"
   ]
  },
  {
   "cell_type": "code",
   "execution_count": 20,
   "id": "00e51b09",
   "metadata": {},
   "outputs": [],
   "source": [
    "#converting all the comments to lower case so thats its easy to analyse them.\n",
    "df_up['comment_text']=df_up['comment_text'].str.lower()"
   ]
  },
  {
   "cell_type": "code",
   "execution_count": 21,
   "id": "44e2d928",
   "metadata": {},
   "outputs": [],
   "source": [
    "#Replacing email address,links, phone numbers, any sort of numbers and currency as they are not abusive or malignant comments\n",
    "df_up['comment_text'] = df_up['comment_text'].str.replace(r'^.+@[^\\.].*\\.[a-z]{2,}$','emailid')\n",
    "df_up['comment_text'] = df_up['comment_text'].str.replace(r'^http\\://[a-zA-Z0-9\\-\\.]+\\.[a-zA-Z]{2,3}(/\\S*)?$','link')\n",
    "df_up['comment_text'] = df_up['comment_text'].str.replace(r'£|\\$', 'currency')   \n",
    "df_up['comment_text'] = df_up['comment_text'].str.replace(r'^\\(?[\\d]{3}\\)?[\\s-]?[\\d]{3}[\\s-]?[\\d]{4}$','phno')\n",
    "df_up['comment_text'] = df_up['comment_text'].str.replace(r'\\d+(\\.\\d+)?', 'numbr')                                  \n",
    "                                 "
   ]
  },
  {
   "cell_type": "code",
   "execution_count": 22,
   "id": "17d99f6a",
   "metadata": {},
   "outputs": [
    {
     "data": {
      "text/plain": [
       "0         explanation edits made username hardcore metal...\n",
       "1         d'aww! match background colour i'm seemingly s...\n",
       "2         hey man, i'm really trying edit war. guy const...\n",
       "3         can't make real suggestion improvement wondere...\n",
       "4           you, sir, hero. chance remember page that's on?\n",
       "                                ...                        \n",
       "115860    gross bitch ever came would throw gross as pav...\n",
       "130910    \"*a-hem*... \"\"nigger nigger nigger, nigger nig...\n",
       "37514                  breakdown sex act porn actress film.\n",
       "15549     bollock bollock bollock bollock bollock bolloc...\n",
       "90727     plan ask advice, assume situation know sides, ...\n",
       "Name: comment_text, Length: 288554, dtype: object"
      ]
     },
     "execution_count": 22,
     "metadata": {},
     "output_type": "execute_result"
    }
   ],
   "source": [
    "df_up['comment_text']"
   ]
  },
  {
   "cell_type": "code",
   "execution_count": 23,
   "id": "c3f275ed",
   "metadata": {},
   "outputs": [],
   "source": [
    "#Removing punctuations\n",
    "df_up['comment_text'] = df_up['comment_text'].apply(lambda x: ' '.join(\n",
    "    term for term in x.split() if term not in string.punctuation))\n"
   ]
  },
  {
   "cell_type": "code",
   "execution_count": 8,
   "id": "c9ad075a",
   "metadata": {},
   "outputs": [
    {
     "name": "stderr",
     "output_type": "stream",
     "text": [
      "[nltk_data] Downloading package stopwords to\n",
      "[nltk_data]     C:\\Users\\user\\AppData\\Roaming\\nltk_data...\n",
      "[nltk_data]   Unzipping corpora\\stopwords.zip.\n"
     ]
    },
    {
     "data": {
      "text/plain": [
       "True"
      ]
     },
     "execution_count": 8,
     "metadata": {},
     "output_type": "execute_result"
    }
   ],
   "source": [
    "nltk.download('stopwords')"
   ]
  },
  {
   "cell_type": "code",
   "execution_count": 24,
   "id": "b2931d0d",
   "metadata": {},
   "outputs": [],
   "source": [
    "# Removing stop words\n",
    "sw = set(stopwords.words('english') + ['u', 'ur', '4', '2', 'im', 'dont', 'doin', 'ure'])\n",
    "df_up['comment_text'] = df_up['comment_text'].apply(lambda x: ' '.join(\n",
    "    term for term in x.split() if term not in sw))"
   ]
  },
  {
   "cell_type": "code",
   "execution_count": 11,
   "id": "1d165e3d",
   "metadata": {},
   "outputs": [
    {
     "name": "stderr",
     "output_type": "stream",
     "text": [
      "[nltk_data] Downloading package wordnet to\n",
      "[nltk_data]     C:\\Users\\user\\AppData\\Roaming\\nltk_data...\n"
     ]
    },
    {
     "data": {
      "text/plain": [
       "True"
      ]
     },
     "execution_count": 11,
     "metadata": {},
     "output_type": "execute_result"
    }
   ],
   "source": [
    "nltk.download('wordnet')"
   ]
  },
  {
   "cell_type": "code",
   "execution_count": 25,
   "id": "9ea59345",
   "metadata": {},
   "outputs": [],
   "source": [
    "lm=WordNetLemmatizer()\n",
    "df_up['comment_text'] = df_up['comment_text'].apply(lambda x: ' '.join(\n",
    " lm.lemmatize(t) for t in x.split()))"
   ]
  },
  {
   "cell_type": "code",
   "execution_count": 26,
   "id": "74fa3af3",
   "metadata": {},
   "outputs": [
    {
     "name": "stdout",
     "output_type": "stream",
     "text": [
      "52729                       though freinds undo backstabber\n",
      "38282     elinord, kp botany teadrinker fucken piece shi...\n",
      "39669     personal opinion fucking wanker hope die painf...\n",
      "155370    shut up! fuck sake edited article i've never e...\n",
      "49615                                  hi fuck you, faggot.\n",
      "                                ...                        \n",
      "115860     gross bitch ever came would throw gross pavement\n",
      "130910    \"*a-hem*... \"\"nigger nigger nigger, nigger nig...\n",
      "37514                  breakdown sex act porn actress film.\n",
      "15549     bollock bollock bollock bollock bollock bolloc...\n",
      "90727     plan ask advice, assume situation know sides, ...\n",
      "Name: comment_text, Length: 144277, dtype: object\n"
     ]
    }
   ],
   "source": [
    " slang= df_up['comment_text'][df_up['malignant']==1]\n",
    "print(slang)"
   ]
  },
  {
   "cell_type": "code",
   "execution_count": 27,
   "id": "d97a58ac",
   "metadata": {},
   "outputs": [],
   "source": [
    "# Convert text into vectors using TFIDF\n",
    "\n",
    "tfidf = TfidfVectorizer(max_features = 10000, stop_words='english')\n",
    "text_feature = tfidf.fit_transform(df_up['comment_text'])\n",
    "x = text_feature"
   ]
  },
  {
   "cell_type": "code",
   "execution_count": 28,
   "id": "39165ebd",
   "metadata": {},
   "outputs": [],
   "source": [
    "y=df_up['malignant']"
   ]
  },
  {
   "cell_type": "markdown",
   "id": "4a6b1ec3",
   "metadata": {},
   "source": [
    "## Train test split"
   ]
  },
  {
   "cell_type": "code",
   "execution_count": 29,
   "id": "10781c5c",
   "metadata": {},
   "outputs": [
    {
     "name": "stdout",
     "output_type": "stream",
     "text": [
      "\n",
      "\n",
      " Best accuracy at random state- 0\n",
      "\n",
      "Train Accuracy-  94.8\n",
      "\n",
      "Test Accuracy-  94.0\n",
      "\n",
      "\n",
      " Best accuracy at random state- 1\n",
      "\n",
      "Train Accuracy-  94.7\n",
      "\n",
      "Test Accuracy-  94.0\n",
      "\n",
      "\n",
      " Best accuracy at random state- 2\n",
      "\n",
      "Train Accuracy-  94.7\n",
      "\n",
      "Test Accuracy-  94.0\n",
      "\n",
      "\n",
      " Best accuracy at random state- 3\n",
      "\n",
      "Train Accuracy-  94.7\n",
      "\n",
      "Test Accuracy-  94.1\n",
      "\n",
      "\n",
      " Best accuracy at random state- 4\n",
      "\n",
      "Train Accuracy-  94.8\n",
      "\n",
      "Test Accuracy-  94.1\n",
      "\n",
      "\n",
      " Best accuracy at random state- 5\n",
      "\n",
      "Train Accuracy-  94.7\n",
      "\n",
      "Test Accuracy-  94.0\n",
      "\n",
      "\n",
      " Best accuracy at random state- 6\n",
      "\n",
      "Train Accuracy-  94.7\n",
      "\n",
      "Test Accuracy-  94.0\n",
      "\n",
      "\n",
      " Best accuracy at random state- 7\n",
      "\n",
      "Train Accuracy-  94.7\n",
      "\n",
      "Test Accuracy-  94.0\n",
      "\n",
      "\n",
      " Best accuracy at random state- 8\n",
      "\n",
      "Train Accuracy-  94.7\n",
      "\n",
      "Test Accuracy-  94.1\n",
      "\n",
      "\n",
      " Best accuracy at random state- 9\n",
      "\n",
      "Train Accuracy-  94.8\n",
      "\n",
      "Test Accuracy-  94.1\n"
     ]
    }
   ],
   "source": [
    "from sklearn.linear_model import LogisticRegression\n",
    "from sklearn.metrics import accuracy_score\n",
    "max_ac=0\n",
    "randomState=0\n",
    "lr=LogisticRegression()\n",
    "for i in range(10):\n",
    "    x_train,x_test,y_train,y_test=train_test_split(x,y,random_state=i,test_size=0.20)\n",
    "    lr.fit(x_train,y_train)\n",
    "    pred_train=lr.predict(x_train)\n",
    "    pred_test=lr.predict(x_test)\n",
    "    if round(accuracy_score(y_train,pred_train)*100,1)==round(accuracy_score(y_test,pred_test)*100,1):\n",
    "        print(\"\\n\\nAt random state:\",i)\n",
    "        print(\"\\nTrain Accuracy- \",round(accuracy_score(y_train,pred_train)*100,1))\n",
    "        print(\"\\nTest Accuracy- \",round(accuracy_score(y_test,pred_test)*100,1))\n",
    "        if round(accuracy_score(y_test,pred_test)*100,1)>max_ac:\n",
    "            randomState=i\n",
    "            max_ac=round(accuracy_score(y_test,pred_test)*100,1)\n",
    "    print(\"\\n\\n Best accuracy at random state-\",i)\n",
    "    print(\"\\nTrain Accuracy- \",round(accuracy_score(y_train,pred_train)*100,1))\n",
    "    print(\"\\nTest Accuracy- \",round(accuracy_score(y_test,pred_test)*100,1))"
   ]
  },
  {
   "cell_type": "markdown",
   "id": "7adb2a06",
   "metadata": {},
   "source": [
    "## Logistic Regression"
   ]
  },
  {
   "cell_type": "code",
   "execution_count": 30,
   "id": "9bb75a96",
   "metadata": {},
   "outputs": [
    {
     "name": "stdout",
     "output_type": "stream",
     "text": [
      "\n",
      "train accuracy- 94.7\n",
      "\n",
      "test accuracy- 94.1\n"
     ]
    }
   ],
   "source": [
    "x_train,x_test,y_train,y_test=train_test_split(x,y,random_state=3,test_size=0.20)\n",
    "lr.fit(x_train,y_train)\n",
    "pred_train=lr.predict(x_train)\n",
    "pred_test=lr.predict(x_test)\n",
    "train_accuracy=round(accuracy_score(y_train,pred_train)*100,1)\n",
    "test_accuracy=round(accuracy_score(y_test,pred_test)*100,1)\n",
    "print(\"\\ntrain accuracy-\",train_accuracy)\n",
    "print(\"\\ntest accuracy-\",test_accuracy)"
   ]
  },
  {
   "cell_type": "markdown",
   "id": "96f25e67",
   "metadata": {},
   "source": [
    "## Cross Validation Score"
   ]
  },
  {
   "cell_type": "code",
   "execution_count": 31,
   "id": "95a2ba78",
   "metadata": {},
   "outputs": [
    {
     "name": "stdout",
     "output_type": "stream",
     "text": [
      "\n",
      "\n",
      "At cv- 4\n",
      "\n",
      " cross validation score is- 93.96750721477338\n",
      "\n",
      " Accuracy score is- 94.1\n",
      "\n",
      "\n",
      "At cv- 5\n",
      "\n",
      " cross validation score is- 94.02399584944227\n",
      "\n",
      " Accuracy score is- 94.1\n"
     ]
    }
   ],
   "source": [
    "for i in range(4,6):\n",
    "    cv_score=cross_val_score(lr,x,y,cv=i)\n",
    "    cv_mean=cv_score.mean()\n",
    "    print(\"\\n\\nAt cv-\",i)\n",
    "    print(\"\\n cross validation score is-\",cv_mean*100)\n",
    "    print(\"\\n Accuracy score is-\",test_accuracy)"
   ]
  },
  {
   "cell_type": "code",
   "execution_count": 32,
   "id": "0618d010",
   "metadata": {},
   "outputs": [
    {
     "name": "stdout",
     "output_type": "stream",
     "text": [
      "cross validation score is- 94.02399584944227\n",
      "accuracy score for logistic regression model is- 94.1\n"
     ]
    }
   ],
   "source": [
    "cv_score_best=cross_val_score(lr,x,y,cv=5).mean()*100\n",
    "print(\"cross validation score is-\",cv_score_best)\n",
    "print(\"accuracy score for logistic regression model is-\",test_accuracy)"
   ]
  },
  {
   "cell_type": "markdown",
   "id": "b32fe7a7",
   "metadata": {},
   "source": [
    "## Confusion Matrix"
   ]
  },
  {
   "cell_type": "code",
   "execution_count": 33,
   "id": "9e7b6b85",
   "metadata": {},
   "outputs": [
    {
     "data": {
      "image/png": "[encoded data removed]",
      "text/plain": [
       "<Figure size 432x288 with 2 Axes>"
      ]
     },
     "metadata": {
      "needs_background": "light"
     },
     "output_type": "display_data"
    }
   ],
   "source": [
    "confusion_matrix = metrics.confusion_matrix(y_test, pred_test)\n",
    "cm = metrics.ConfusionMatrixDisplay(confusion_matrix = confusion_matrix, display_labels = [False, True])\n",
    "cm.plot()\n",
    "plt.show()"
   ]
  },
  {
   "cell_type": "markdown",
   "id": "d05281c6",
   "metadata": {},
   "source": [
    "## AUC-ROC Curve"
   ]
  },
  {
   "cell_type": "code",
   "execution_count": 34,
   "id": "978b2984",
   "metadata": {},
   "outputs": [
    {
     "data": {
      "image/png": "[encoded data removed]",
      "text/plain": [
       "<Figure size 432x288 with 1 Axes>"
      ]
     },
     "metadata": {
      "needs_background": "light"
     },
     "output_type": "display_data"
    }
   ],
   "source": [
    "fpr,tpr,thresholds=roc_curve(pred_test,y_test)\n",
    "roc_auc=auc(fpr,tpr)\n",
    "\n",
    "plt.figure()\n",
    "plt.plot(fpr,tpr,color='orange',lw=10,label=\"ROC curve (area=%0.2f)\"%roc_auc)\n",
    "plt.plot([0,1],[0,1],color='navy',lw=10,linestyle=\"--\")\n",
    "plt.xlim([0.0,1.0])\n",
    "plt.ylim([0.0,1.05])\n",
    "plt.xlabel(\"false positive rate\")\n",
    "plt.ylabel(\"true positive rate\")\n",
    "plt.title(\"reciever operating characteristics\")\n",
    "plt.legend(loc=\"lower right\")\n",
    "plt.show()"
   ]
  },
  {
   "cell_type": "markdown",
   "id": "89bd2add",
   "metadata": {},
   "source": [
    "## Classification Report"
   ]
  },
  {
   "cell_type": "code",
   "execution_count": 35,
   "id": "8e83a801",
   "metadata": {},
   "outputs": [
    {
     "name": "stdout",
     "output_type": "stream",
     "text": [
      "              precision    recall  f1-score   support\n",
      "\n",
      "           0       0.94      0.94      0.94     29048\n",
      "           1       0.94      0.94      0.94     28663\n",
      "\n",
      "    accuracy                           0.94     57711\n",
      "   macro avg       0.94      0.94      0.94     57711\n",
      "weighted avg       0.94      0.94      0.94     57711\n",
      "\n"
     ]
    }
   ],
   "source": [
    "print(classification_report(y_test, pred_test))"
   ]
  },
  {
   "cell_type": "markdown",
   "id": "d13a030b",
   "metadata": {},
   "source": [
    "## Decision Tree Classifier"
   ]
  },
  {
   "cell_type": "code",
   "execution_count": 36,
   "id": "5d97ae4a",
   "metadata": {},
   "outputs": [
    {
     "name": "stdout",
     "output_type": "stream",
     "text": [
      "acc train 99.8\n",
      "acc test 96.7\n"
     ]
    }
   ],
   "source": [
    "from sklearn.tree import DecisionTreeClassifier\n",
    "dt=DecisionTreeClassifier()\n",
    "dt.fit(x_train,y_train)\n",
    "dt_pred_train=dt.predict(x_train)\n",
    "dt_pred_test=dt.predict(x_test)\n",
    "dt_acc_train=round(accuracy_score(y_train,dt_pred_train)*100,1)\n",
    "dt_acc_test=round(accuracy_score(y_test,dt_pred_test)*100,1)\n",
    "print(\"acc train\",dt_acc_train)\n",
    "print(\"acc test\",dt_acc_test)"
   ]
  },
  {
   "cell_type": "markdown",
   "id": "18518ada",
   "metadata": {},
   "source": [
    "## Confusion Matrix"
   ]
  },
  {
   "cell_type": "code",
   "execution_count": 38,
   "id": "448ce53e",
   "metadata": {},
   "outputs": [
    {
     "data": {
      "image/png": "[encoded data removed]",
      "text/plain": [
       "<Figure size 432x288 with 2 Axes>"
      ]
     },
     "metadata": {
      "needs_background": "light"
     },
     "output_type": "display_data"
    }
   ],
   "source": [
    "confusion_matrix = metrics.confusion_matrix(y_test, dt_pred_test)\n",
    "cm = metrics.ConfusionMatrixDisplay(confusion_matrix = confusion_matrix, display_labels = [False, True])\n",
    "cm.plot()\n",
    "plt.show()"
   ]
  },
  {
   "cell_type": "markdown",
   "id": "6688ec06",
   "metadata": {},
   "source": [
    "## AUC-ROC Curve"
   ]
  },
  {
   "cell_type": "code",
   "execution_count": 39,
   "id": "f8c92e23",
   "metadata": {},
   "outputs": [
    {
     "data": {
      "image/png": "[encoded data removed]",
      "text/plain": [
       "<Figure size 432x288 with 1 Axes>"
      ]
     },
     "metadata": {
      "needs_background": "light"
     },
     "output_type": "display_data"
    }
   ],
   "source": [
    "fpr,tpr,thresholds=roc_curve(dt_pred_test,y_test)\n",
    "roc_auc=auc(fpr,tpr)\n",
    "\n",
    "plt.figure()\n",
    "plt.plot(fpr,tpr,color='orange',lw=10,label=\"ROC curve (area=%0.2f)\"%roc_auc)\n",
    "plt.plot([0,1],[0,1],color='navy',lw=10,linestyle=\"--\")\n",
    "plt.xlim([0.0,1.0])\n",
    "plt.ylim([0.0,1.05])\n",
    "plt.xlabel(\"false positive rate\")\n",
    "plt.ylabel(\"true positive rate\")\n",
    "plt.title(\"reciever operating characteristics\")\n",
    "plt.legend(loc=\"lower right\")\n",
    "plt.show()"
   ]
  },
  {
   "cell_type": "markdown",
   "id": "bc62af26",
   "metadata": {},
   "source": [
    "## Classification Report"
   ]
  },
  {
   "cell_type": "code",
   "execution_count": 40,
   "id": "7b7ded4d",
   "metadata": {},
   "outputs": [
    {
     "name": "stdout",
     "output_type": "stream",
     "text": [
      "              precision    recall  f1-score   support\n",
      "\n",
      "           0       1.00      0.94      0.97     29048\n",
      "           1       0.94      1.00      0.97     28663\n",
      "\n",
      "    accuracy                           0.97     57711\n",
      "   macro avg       0.97      0.97      0.97     57711\n",
      "weighted avg       0.97      0.97      0.97     57711\n",
      "\n"
     ]
    }
   ],
   "source": [
    "print(classification_report(y_test, dt_pred_test))"
   ]
  },
  {
   "cell_type": "markdown",
   "id": "336b8d92",
   "metadata": {},
   "source": [
    "## Knn Classifier"
   ]
  },
  {
   "cell_type": "code",
   "execution_count": 43,
   "id": "5b0324b5",
   "metadata": {},
   "outputs": [
    {
     "name": "stdout",
     "output_type": "stream",
     "text": [
      "\n",
      "Train Accuracy-  91.1\n",
      "\n",
      "Test Accuracy-  85.2\n"
     ]
    }
   ],
   "source": [
    "from sklearn.neighbors import KNeighborsClassifier\n",
    "knn=KNeighborsClassifier()\n",
    "x_train,x_test,y_train,y_test=train_test_split(x,y,random_state=1,test_size=0.20)\n",
    "knn.fit(x_train,y_train)\n",
    "pred_train=knn.predict(x_train)\n",
    "pred_test=knn.predict(x_test)\n",
    "knn_train_acc=round(accuracy_score(y_train,pred_train)*100,1)\n",
    "knn_test_acc=round(accuracy_score(y_test,pred_test)*100,1)\n",
    "print(\"\\nTrain Accuracy- \",knn_train_acc)\n",
    "print(\"\\nTest Accuracy- \",knn_test_acc)"
   ]
  },
  {
   "cell_type": "markdown",
   "id": "7ea45487",
   "metadata": {},
   "source": [
    "## Cross Validation Score"
   ]
  },
  {
   "cell_type": "code",
   "execution_count": 47,
   "id": "553637d9",
   "metadata": {},
   "outputs": [
    {
     "name": "stdout",
     "output_type": "stream",
     "text": [
      "cross validation score is- 86.37585674357695\n",
      "accuracy score for Knn classifier model is- 85.2\n"
     ]
    }
   ],
   "source": [
    "cv_score_best_knn=cross_val_score(knn,x,y,cv=11).mean()*100\n",
    "print(\"cross validation score is-\",cv_score_best_knn)\n",
    "print(\"accuracy score for Knn classifier model is-\",knn_test_acc)"
   ]
  },
  {
   "cell_type": "markdown",
   "id": "2047fc5b",
   "metadata": {},
   "source": [
    "## Confusion Matrix"
   ]
  },
  {
   "cell_type": "code",
   "execution_count": 44,
   "id": "65cf1e5c",
   "metadata": {},
   "outputs": [
    {
     "data": {
      "image/png": "[encoded data removed]",
      "text/plain": [
       "<Figure size 432x288 with 2 Axes>"
      ]
     },
     "metadata": {
      "needs_background": "light"
     },
     "output_type": "display_data"
    }
   ],
   "source": [
    "confusion_matrix = metrics.confusion_matrix(y_test, pred_test)\n",
    "cm = metrics.ConfusionMatrixDisplay(confusion_matrix = confusion_matrix, display_labels = [False, True])\n",
    "cm.plot()\n",
    "plt.show()"
   ]
  },
  {
   "cell_type": "markdown",
   "id": "dd6d751d",
   "metadata": {},
   "source": [
    "## AUC-ROC Curve"
   ]
  },
  {
   "cell_type": "code",
   "execution_count": 45,
   "id": "bba1331b",
   "metadata": {},
   "outputs": [
    {
     "data": {
      "image/png": "[encoded data removed]",
      "text/plain": [
       "<Figure size 432x288 with 1 Axes>"
      ]
     },
     "metadata": {
      "needs_background": "light"
     },
     "output_type": "display_data"
    }
   ],
   "source": [
    "fpr,tpr,thresholds=roc_curve(pred_test,y_test)\n",
    "roc_auc=auc(fpr,tpr)\n",
    "\n",
    "plt.figure()\n",
    "plt.plot(fpr,tpr,color='orange',lw=10,label=\"ROC curve (area=%0.2f)\"%roc_auc)\n",
    "plt.plot([0,1],[0,1],color='navy',lw=10,linestyle=\"--\")\n",
    "plt.xlim([0.0,1.0])\n",
    "plt.ylim([0.0,1.05])\n",
    "plt.xlabel(\"false positive rate\")\n",
    "plt.ylabel(\"true positive rate\")\n",
    "plt.title(\"reciever operating characteristics\")\n",
    "plt.legend(loc=\"lower right\")\n",
    "plt.show()"
   ]
  },
  {
   "cell_type": "markdown",
   "id": "c26f73a3",
   "metadata": {},
   "source": [
    "## Classification Report"
   ]
  },
  {
   "cell_type": "code",
   "execution_count": 46,
   "id": "92170307",
   "metadata": {},
   "outputs": [
    {
     "name": "stdout",
     "output_type": "stream",
     "text": [
      "              precision    recall  f1-score   support\n",
      "\n",
      "           0       0.99      0.71      0.83     29050\n",
      "           1       0.77      0.99      0.87     28661\n",
      "\n",
      "    accuracy                           0.85     57711\n",
      "   macro avg       0.88      0.85      0.85     57711\n",
      "weighted avg       0.88      0.85      0.85     57711\n",
      "\n"
     ]
    }
   ],
   "source": [
    "print(classification_report(y_test, pred_test))"
   ]
  },
  {
   "cell_type": "markdown",
   "id": "53923e8d",
   "metadata": {},
   "source": [
    "## Random Forest Classifier"
   ]
  },
  {
   "cell_type": "code",
   "execution_count": 49,
   "id": "97731ccf",
   "metadata": {},
   "outputs": [
    {
     "name": "stdout",
     "output_type": "stream",
     "text": [
      "\n",
      "Train Accuracy-  99.8\n",
      "\n",
      "Test Accuracy-  98.9\n"
     ]
    }
   ],
   "source": [
    "from sklearn.ensemble import RandomForestClassifier\n",
    "rf=RandomForestClassifier()\n",
    "x_train,x_test,y_train,y_test=train_test_split(x,y,random_state=10,test_size=0.20)\n",
    "rf.fit(x_train,y_train)\n",
    "pred_train=rf.predict(x_train)\n",
    "pred_test=rf.predict(x_test)\n",
    "rf_train_acc=round(accuracy_score(y_train,pred_train)*100,1)\n",
    "rf_test_acc=round(accuracy_score(y_test,pred_test)*100,1)\n",
    "print(\"\\nTrain Accuracy- \",rf_train_acc)\n",
    "print(\"\\nTest Accuracy- \",rf_test_acc)"
   ]
  },
  {
   "cell_type": "markdown",
   "id": "c01f4275",
   "metadata": {},
   "source": [
    "## Confusion Matrix"
   ]
  },
  {
   "cell_type": "code",
   "execution_count": 51,
   "id": "aee60321",
   "metadata": {},
   "outputs": [
    {
     "data": {
      "image/png": "[encoded data removed]",
      "text/plain": [
       "<Figure size 432x288 with 2 Axes>"
      ]
     },
     "metadata": {
      "needs_background": "light"
     },
     "output_type": "display_data"
    }
   ],
   "source": [
    "confusion_matrix = metrics.confusion_matrix(y_test, pred_test)\n",
    "cm = metrics.ConfusionMatrixDisplay(confusion_matrix = confusion_matrix, display_labels = [False, True])\n",
    "cm.plot()\n",
    "plt.show()"
   ]
  },
  {
   "cell_type": "markdown",
   "id": "fe085fc2",
   "metadata": {},
   "source": [
    "## AUC-ROC Curve"
   ]
  },
  {
   "cell_type": "code",
   "execution_count": 52,
   "id": "f328222b",
   "metadata": {},
   "outputs": [
    {
     "data": {
      "image/png": "[encoded data removed]",
      "text/plain": [
       "<Figure size 432x288 with 1 Axes>"
      ]
     },
     "metadata": {
      "needs_background": "light"
     },
     "output_type": "display_data"
    }
   ],
   "source": [
    "fpr,tpr,thresholds=roc_curve(pred_test,y_test)\n",
    "roc_auc=auc(fpr,tpr)\n",
    "\n",
    "plt.figure()\n",
    "plt.plot(fpr,tpr,color='orange',lw=10,label=\"ROC curve (area=%0.2f)\"%roc_auc)\n",
    "plt.plot([0,1],[0,1],color='navy',lw=10,linestyle=\"--\")\n",
    "plt.xlim([0.0,1.0])\n",
    "plt.ylim([0.0,1.05])\n",
    "plt.xlabel(\"false positive rate\")\n",
    "plt.ylabel(\"true positive rate\")\n",
    "plt.title(\"reciever operating characteristics\")\n",
    "plt.legend(loc=\"lower right\")\n",
    "plt.show()"
   ]
  },
  {
   "cell_type": "markdown",
   "id": "635d46ab",
   "metadata": {},
   "source": [
    "## Classification Report"
   ]
  },
  {
   "cell_type": "code",
   "execution_count": 53,
   "id": "5d79a549",
   "metadata": {},
   "outputs": [
    {
     "name": "stdout",
     "output_type": "stream",
     "text": [
      "              precision    recall  f1-score   support\n",
      "\n",
      "           0       1.00      0.98      0.99     28788\n",
      "           1       0.98      1.00      0.99     28923\n",
      "\n",
      "    accuracy                           0.99     57711\n",
      "   macro avg       0.99      0.99      0.99     57711\n",
      "weighted avg       0.99      0.99      0.99     57711\n",
      "\n"
     ]
    }
   ],
   "source": [
    "print(classification_report(y_test, pred_test))"
   ]
  },
  {
   "cell_type": "markdown",
   "id": "58b4e479",
   "metadata": {},
   "source": [
    "## Model Summary"
   ]
  },
  {
   "cell_type": "code",
   "execution_count": 55,
   "id": "44518c87",
   "metadata": {},
   "outputs": [
    {
     "data": {
      "text/html": [
       "<div>\n",
       "<style scoped>\n",
       "    .dataframe tbody tr th:only-of-type {\n",
       "        vertical-align: middle;\n",
       "    }\n",
       "\n",
       "    .dataframe tbody tr th {\n",
       "        vertical-align: top;\n",
       "    }\n",
       "\n",
       "    .dataframe thead th {\n",
       "        text-align: right;\n",
       "    }\n",
       "</style>\n",
       "<table border=\"1\" class=\"dataframe\">\n",
       "  <thead>\n",
       "    <tr style=\"text-align: right;\">\n",
       "      <th></th>\n",
       "      <th>Models</th>\n",
       "      <th>Test Accuracy</th>\n",
       "    </tr>\n",
       "  </thead>\n",
       "  <tbody>\n",
       "    <tr>\n",
       "      <th>0</th>\n",
       "      <td>Logistic Regression</td>\n",
       "      <td>94.1</td>\n",
       "    </tr>\n",
       "    <tr>\n",
       "      <th>1</th>\n",
       "      <td>Decision Tree Classifier</td>\n",
       "      <td>96.7</td>\n",
       "    </tr>\n",
       "    <tr>\n",
       "      <th>2</th>\n",
       "      <td>Knn Classifier</td>\n",
       "      <td>85.2</td>\n",
       "    </tr>\n",
       "    <tr>\n",
       "      <th>3</th>\n",
       "      <td>Random Forest Classifier</td>\n",
       "      <td>98.9</td>\n",
       "    </tr>\n",
       "  </tbody>\n",
       "</table>\n",
       "</div>"
      ],
      "text/plain": [
       "                     Models  Test Accuracy\n",
       "0       Logistic Regression           94.1\n",
       "1  Decision Tree Classifier           96.7\n",
       "2            Knn Classifier           85.2\n",
       "3  Random Forest Classifier           98.9"
      ]
     },
     "execution_count": 55,
     "metadata": {},
     "output_type": "execute_result"
    }
   ],
   "source": [
    "models=['Logistic Regression','Decision Tree Classifier','Knn Classifier','Random Forest Classifier']\n",
    "test_acc=[test_accuracy,dt_acc_test,knn_test_acc,rf_test_acc]\n",
    "dfm=pd.DataFrame(list(zip(models,test_acc)),columns=['Models','Test Accuracy'])\n",
    "dfm"
   ]
  },
  {
   "cell_type": "markdown",
   "id": "627568b9",
   "metadata": {},
   "source": [
    "•\tSince random forest classifier is giving best accuracy already so we will not apply hyper parameter tuning on dataset as the dataset is very large and time consuming and scope of accuracy improvement is not much high. So, we will save random forest classifier model."
   ]
  },
  {
   "cell_type": "markdown",
   "id": "62408400",
   "metadata": {},
   "source": [
    "## Model Summary"
   ]
  },
  {
   "cell_type": "code",
   "execution_count": 56,
   "id": "3b1c456c",
   "metadata": {},
   "outputs": [],
   "source": [
    "import pickle\n",
    "filename = 'finalized_model.pkl'\n",
    "pickle.dump(rf, open(filename, 'wb'))"
   ]
  },
  {
   "cell_type": "markdown",
   "id": "cf605735",
   "metadata": {},
   "source": [
    "## Applying the model on the testing data"
   ]
  },
  {
   "cell_type": "code",
   "execution_count": 57,
   "id": "f9a8835b",
   "metadata": {},
   "outputs": [
    {
     "data": {
      "text/html": [
       "<div>\n",
       "<style scoped>\n",
       "    .dataframe tbody tr th:only-of-type {\n",
       "        vertical-align: middle;\n",
       "    }\n",
       "\n",
       "    .dataframe tbody tr th {\n",
       "        vertical-align: top;\n",
       "    }\n",
       "\n",
       "    .dataframe thead th {\n",
       "        text-align: right;\n",
       "    }\n",
       "</style>\n",
       "<table border=\"1\" class=\"dataframe\">\n",
       "  <thead>\n",
       "    <tr style=\"text-align: right;\">\n",
       "      <th></th>\n",
       "      <th>id</th>\n",
       "      <th>comment_text</th>\n",
       "    </tr>\n",
       "  </thead>\n",
       "  <tbody>\n",
       "    <tr>\n",
       "      <th>0</th>\n",
       "      <td>00001cee341fdb12</td>\n",
       "      <td>Yo bitch Ja Rule is more succesful then you'll...</td>\n",
       "    </tr>\n",
       "    <tr>\n",
       "      <th>1</th>\n",
       "      <td>0000247867823ef7</td>\n",
       "      <td>== From RfC == \\n\\n The title is fine as it is...</td>\n",
       "    </tr>\n",
       "    <tr>\n",
       "      <th>2</th>\n",
       "      <td>00013b17ad220c46</td>\n",
       "      <td>\" \\n\\n == Sources == \\n\\n * Zawe Ashton on Lap...</td>\n",
       "    </tr>\n",
       "    <tr>\n",
       "      <th>3</th>\n",
       "      <td>00017563c3f7919a</td>\n",
       "      <td>:If you have a look back at the source, the in...</td>\n",
       "    </tr>\n",
       "    <tr>\n",
       "      <th>4</th>\n",
       "      <td>00017695ad8997eb</td>\n",
       "      <td>I don't anonymously edit articles at all.</td>\n",
       "    </tr>\n",
       "  </tbody>\n",
       "</table>\n",
       "</div>"
      ],
      "text/plain": [
       "                 id                                       comment_text\n",
       "0  00001cee341fdb12  Yo bitch Ja Rule is more succesful then you'll...\n",
       "1  0000247867823ef7  == From RfC == \\n\\n The title is fine as it is...\n",
       "2  00013b17ad220c46  \" \\n\\n == Sources == \\n\\n * Zawe Ashton on Lap...\n",
       "3  00017563c3f7919a  :If you have a look back at the source, the in...\n",
       "4  00017695ad8997eb          I don't anonymously edit articles at all."
      ]
     },
     "execution_count": 57,
     "metadata": {},
     "output_type": "execute_result"
    }
   ],
   "source": [
    "df=pd.read_csv(r\"C:\\Users\\user\\Downloads\\Malignant-Comments-Classifier-Project\\Malignant Comments Classifier Project\\test.csv\")\n",
    "df.head()"
   ]
  },
  {
   "cell_type": "code",
   "execution_count": 60,
   "id": "a41d2c88",
   "metadata": {},
   "outputs": [],
   "source": [
    "#Cleaning comment_text feature\n",
    "df['comment_text']=df['comment_text'].str.lower()\n",
    "#Replacing email address,links, phone numbers, any sort of numbers and currency as they are not abusive or malignant comments\n",
    "df['comment_text'] = df['comment_text'].str.replace(r'^.+@[^\\.].*\\.[a-z]{2,}$','emailid')\n",
    "df['comment_text'] = df['comment_text'].str.replace(r'^http\\://[a-zA-Z0-9\\-\\.]+\\.[a-zA-Z]{2,3}(/\\S*)?$','link')\n",
    "df['comment_text'] = df['comment_text'].str.replace(r'£|\\$', 'currency')   \n",
    "df['comment_text'] = df['comment_text'].str.replace(r'^\\(?[\\d]{3}\\)?[\\s-]?[\\d]{3}[\\s-]?[\\d]{4}$','phno')\n",
    "df['comment_text'] = df['comment_text'].str.replace(r'\\d+(\\.\\d+)?', 'numbr')      \n",
    "#Removing punctuations\n",
    "df['comment_text'] = df['comment_text'].apply(lambda x: ' '.join(\n",
    "    term for term in x.split() if term not in string.punctuation))\n",
    "# Removing stop words\n",
    "sw = set(stopwords.words('english') + ['u', 'ur', '4', '2', 'im', 'dont', 'doin', 'ure'])\n",
    "df['comment_text'] = df['comment_text'].apply(lambda x: ' '.join(\n",
    "    term for term in x.split() if term not in sw))\n",
    "lm=WordNetLemmatizer()\n",
    "df['comment_text'] = df['comment_text'].apply(lambda x: ' '.join(\n",
    " lm.lemmatize(t) for t in x.split()))\n"
   ]
  },
  {
   "cell_type": "code",
   "execution_count": 61,
   "id": "7e08de6c",
   "metadata": {},
   "outputs": [],
   "source": [
    "# Convert text into vectors using TFIDF\n",
    "\n",
    "tfidf = TfidfVectorizer(max_features = 10000, stop_words='english')\n",
    "text_feature = tfidf.fit_transform(df['comment_text'])\n",
    "x = text_feature"
   ]
  },
  {
   "cell_type": "code",
   "execution_count": 62,
   "id": "4dd2158a",
   "metadata": {},
   "outputs": [
    {
     "data": {
      "text/plain": [
       "array([0, 0, 0, ..., 0, 0, 1], dtype=int64)"
      ]
     },
     "execution_count": 62,
     "metadata": {},
     "output_type": "execute_result"
    }
   ],
   "source": [
    "# Applying Random Forest Classifier Model\n",
    "pred_malignant=rf.predict(x)\n",
    "pred_malignant"
   ]
  },
  {
   "cell_type": "code",
   "execution_count": 63,
   "id": "386481c9",
   "metadata": {},
   "outputs": [],
   "source": [
    "df['malignant']=pred_malignant"
   ]
  },
  {
   "cell_type": "code",
   "execution_count": 64,
   "id": "0d2cf22d",
   "metadata": {
    "scrolled": true
   },
   "outputs": [
    {
     "data": {
      "text/html": [
       "<div>\n",
       "<style scoped>\n",
       "    .dataframe tbody tr th:only-of-type {\n",
       "        vertical-align: middle;\n",
       "    }\n",
       "\n",
       "    .dataframe tbody tr th {\n",
       "        vertical-align: top;\n",
       "    }\n",
       "\n",
       "    .dataframe thead th {\n",
       "        text-align: right;\n",
       "    }\n",
       "</style>\n",
       "<table border=\"1\" class=\"dataframe\">\n",
       "  <thead>\n",
       "    <tr style=\"text-align: right;\">\n",
       "      <th></th>\n",
       "      <th>id</th>\n",
       "      <th>comment_text</th>\n",
       "      <th>malignant</th>\n",
       "    </tr>\n",
       "  </thead>\n",
       "  <tbody>\n",
       "    <tr>\n",
       "      <th>0</th>\n",
       "      <td>00001cee341fdb12</td>\n",
       "      <td>yo bitch ja rule succesful ever whats hating s...</td>\n",
       "      <td>0</td>\n",
       "    </tr>\n",
       "    <tr>\n",
       "      <th>1</th>\n",
       "      <td>0000247867823ef7</td>\n",
       "      <td>== rfc == title fine is, imo.</td>\n",
       "      <td>0</td>\n",
       "    </tr>\n",
       "    <tr>\n",
       "      <th>2</th>\n",
       "      <td>00013b17ad220c46</td>\n",
       "      <td>== source == zawe ashton lapland —</td>\n",
       "      <td>0</td>\n",
       "    </tr>\n",
       "    <tr>\n",
       "      <th>3</th>\n",
       "      <td>00017563c3f7919a</td>\n",
       "      <td>:if look back source, information updated corr...</td>\n",
       "      <td>0</td>\n",
       "    </tr>\n",
       "    <tr>\n",
       "      <th>4</th>\n",
       "      <td>00017695ad8997eb</td>\n",
       "      <td>anonymously edit article all.</td>\n",
       "      <td>1</td>\n",
       "    </tr>\n",
       "    <tr>\n",
       "      <th>...</th>\n",
       "      <td>...</td>\n",
       "      <td>...</td>\n",
       "      <td>...</td>\n",
       "    </tr>\n",
       "    <tr>\n",
       "      <th>153159</th>\n",
       "      <td>fffcd0960ee309b5</td>\n",
       "      <td>totally agree, stuff nothing too-long-crap</td>\n",
       "      <td>0</td>\n",
       "    </tr>\n",
       "    <tr>\n",
       "      <th>153160</th>\n",
       "      <td>fffd7a9a6eb32c16</td>\n",
       "      <td>== throw field home plate. == get faster throw...</td>\n",
       "      <td>1</td>\n",
       "    </tr>\n",
       "    <tr>\n",
       "      <th>153161</th>\n",
       "      <td>fffda9e8d6fafa9e</td>\n",
       "      <td>== okinotorishima category == see change agree...</td>\n",
       "      <td>0</td>\n",
       "    </tr>\n",
       "    <tr>\n",
       "      <th>153162</th>\n",
       "      <td>fffe8f1340a79fc2</td>\n",
       "      <td>== \"\"one founding nation eu germany law return...</td>\n",
       "      <td>0</td>\n",
       "    </tr>\n",
       "    <tr>\n",
       "      <th>153163</th>\n",
       "      <td>ffffce3fb183ee80</td>\n",
       "      <td>:::stop already. bullshit welcome here. i'm fo...</td>\n",
       "      <td>1</td>\n",
       "    </tr>\n",
       "  </tbody>\n",
       "</table>\n",
       "<p>153164 rows × 3 columns</p>\n",
       "</div>"
      ],
      "text/plain": [
       "                      id                                       comment_text  \\\n",
       "0       00001cee341fdb12  yo bitch ja rule succesful ever whats hating s...   \n",
       "1       0000247867823ef7                      == rfc == title fine is, imo.   \n",
       "2       00013b17ad220c46                 == source == zawe ashton lapland —   \n",
       "3       00017563c3f7919a  :if look back source, information updated corr...   \n",
       "4       00017695ad8997eb                      anonymously edit article all.   \n",
       "...                  ...                                                ...   \n",
       "153159  fffcd0960ee309b5         totally agree, stuff nothing too-long-crap   \n",
       "153160  fffd7a9a6eb32c16  == throw field home plate. == get faster throw...   \n",
       "153161  fffda9e8d6fafa9e  == okinotorishima category == see change agree...   \n",
       "153162  fffe8f1340a79fc2  == \"\"one founding nation eu germany law return...   \n",
       "153163  ffffce3fb183ee80  :::stop already. bullshit welcome here. i'm fo...   \n",
       "\n",
       "        malignant  \n",
       "0               0  \n",
       "1               0  \n",
       "2               0  \n",
       "3               0  \n",
       "4               1  \n",
       "...           ...  \n",
       "153159          0  \n",
       "153160          1  \n",
       "153161          0  \n",
       "153162          0  \n",
       "153163          1  \n",
       "\n",
       "[153164 rows x 3 columns]"
      ]
     },
     "execution_count": 64,
     "metadata": {},
     "output_type": "execute_result"
    }
   ],
   "source": [
    "df"
   ]
  },
  {
   "cell_type": "markdown",
   "id": "54825ffb",
   "metadata": {},
   "source": [
    "## Saving this test df as a csv file"
   ]
  },
  {
   "cell_type": "code",
   "execution_count": 66,
   "id": "eb95da7f",
   "metadata": {},
   "outputs": [],
   "source": [
    "df.to_csv(\"test_data.csv\")"
   ]
  }
 ],
 "metadata": {
  "kernelspec": {
   "display_name": "Python 3 (ipykernel)",
   "language": "python",
   "name": "python3"
  },
  "language_info": {
   "codemirror_mode": {
    "name": "ipython",
    "version": 3
   },
   "file_extension": ".py",
   "mimetype": "text/x-python",
   "name": "python",
   "nbconvert_exporter": "python",
   "pygments_lexer": "ipython3",
   "version": "3.9.7"
  }
 },
 "nbformat": 4,
 "nbformat_minor": 5
}
