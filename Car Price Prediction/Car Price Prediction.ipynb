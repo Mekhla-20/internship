{
 "cells": [
  {
   "cell_type": "code",
   "execution_count": 25,
   "id": "b319f843",
   "metadata": {},
   "outputs": [],
   "source": [
    "import selenium\n",
    "import pandas as pd\n",
    "from selenium import webdriver\n",
    "import warnings\n",
    "warnings.filterwarnings('ignore')\n",
    "from selenium.webdriver.common.by import By\n",
    "import requests\n",
    "import time\n",
    "from selenium.common.exceptions import NoSuchElementException\n",
    "import re"
   ]
  },
  {
   "cell_type": "code",
   "execution_count": 47,
   "id": "9c842d6b",
   "metadata": {},
   "outputs": [
    {
     "data": {
      "text/plain": [
       "<selenium.webdriver.chrome.webdriver.WebDriver (session=\"aff62e2bcde5c62204ac253243dcb78c\")>"
      ]
     },
     "execution_count": 47,
     "metadata": {},
     "output_type": "execute_result"
    }
   ],
   "source": [
    "driver=webdriver.Chrome(r\"C:\\Users\\user\\Downloads\\chromedriver_win32 (1)\\chromedriver.exe\")\n",
    "driver"
   ]
  },
  {
   "cell_type": "markdown",
   "id": "ecd636f0",
   "metadata": {},
   "source": [
    "## Fetching the details of cars from cars dekho.com"
   ]
  },
  {
   "cell_type": "code",
   "execution_count": 48,
   "id": "bc30e2bf",
   "metadata": {},
   "outputs": [],
   "source": [
    "url='https://www.cardekho.com/used-cars+in+delhi-ncr'\n",
    "driver.get(url)"
   ]
  },
  {
   "cell_type": "code",
   "execution_count": 90,
   "id": "0e7489cb",
   "metadata": {},
   "outputs": [],
   "source": [
    "brand=[]\n",
    "model=[]\n",
    "variant=[]\n",
    "driven_kms=[]\n",
    "manufacture_yr=[]\n",
    "fuel=[]\n",
    "control=[]\n",
    "price=[]"
   ]
  },
  {
   "cell_type": "code",
   "execution_count": 42,
   "id": "29a39984",
   "metadata": {},
   "outputs": [],
   "source": [
    "SCROLL_PAUSE_TIME = 2\n",
    "\n",
    "# Get scroll height\n",
    "last_height = driver.execute_script(\"return document.body.scrollHeight\")\n",
    "\n",
    "while True:\n",
    "    # Scroll down to bottom\n",
    "    driver.execute_script(\"window.scrollTo(0, document.body.scrollHeight);\")\n",
    "\n",
    "    # Wait to load page\n",
    "    time.sleep(3)\n",
    "    car=driver.find_elements(By.XPATH,'//div[@class = \"gsc_col-xs-7  carsName\"]')       #scraping urls\n",
    "    for i in car:\n",
    "        fuel.append(a[1])\n",
    "        control.append(a[2])\n",
    "        brand.append(i.text.split(\"\\n\")[0].split(\" \")[1])\n",
    "        model.append(i.text.split(\"\\n\")[0].split(\" \")[2])\n",
    "        manufacture_yr.append(i.text.split(\"\\n\")[0].split(\" \")[0])\n",
    "        variant.append(i.text.split(\"\\n\")[1])\n",
    "        price.append(i.text.split(\"\\n\")[2].split(\" \")[0].split(\"₹\")[1])\n",
    "        driven_kms.append(i.text.split(\"\\n\")[3].split(\" \")[0])\n",
    "    # Calculate new scroll height and compare with last scroll height\n",
    "    new_height = driver.execute_script(\"return document.body.scrollHeight\")\n",
    "    if new_height == last_height:\n",
    "        break\n",
    "    last_height = new_height"
   ]
  },
  {
   "cell_type": "code",
   "execution_count": 89,
   "id": "616b0c9b",
   "metadata": {},
   "outputs": [
    {
     "name": "stdout",
     "output_type": "stream",
     "text": [
      "440\n",
      "440\n",
      "440\n",
      "440\n",
      "440\n",
      "440\n",
      "440\n",
      "440\n"
     ]
    }
   ],
   "source": [
    "print(len(fuel))  \n",
    "print(len(control))\n",
    "print(len(brand))\n",
    "print(len(model))\n",
    "print(len(manufacture_yr))\n",
    "print(len(variant))\n",
    "print(len(price))\n",
    "print(len(driven_kms))"
   ]
  },
  {
   "cell_type": "code",
   "execution_count": 54,
   "id": "132533d5",
   "metadata": {},
   "outputs": [
    {
     "name": "stdout",
     "output_type": "stream",
     "text": [
      "3824\n"
     ]
    }
   ],
   "source": [
    "fuel=fuel[:3824]\n",
    "print(len(fuel))"
   ]
  },
  {
   "cell_type": "code",
   "execution_count": 55,
   "id": "769b3db7",
   "metadata": {},
   "outputs": [],
   "source": [
    "control=control[:3824]\n",
    "brand=brand[:3824]\n",
    "model=model[:3824]\n",
    "manufacture_yr=manufacture_yr[:3824]\n",
    "variant=variant[:3824]\n",
    "price=price[:3824]\n",
    "driven_kms=driven_kms[:3824]"
   ]
  },
  {
   "cell_type": "markdown",
   "id": "96303e13",
   "metadata": {},
   "source": [
    "## Fetching details from cars24"
   ]
  },
  {
   "cell_type": "code",
   "execution_count": 56,
   "id": "2afd6036",
   "metadata": {},
   "outputs": [
    {
     "data": {
      "text/plain": [
       "<selenium.webdriver.chrome.webdriver.WebDriver (session=\"f27538bfb69595d53de34ddfc523bfcf\")>"
      ]
     },
     "execution_count": 56,
     "metadata": {},
     "output_type": "execute_result"
    }
   ],
   "source": [
    "driver=webdriver.Chrome(r\"C:\\Users\\user\\Downloads\\chromedriver_win32 (1)\\chromedriver.exe\")\n",
    "driver"
   ]
  },
  {
   "cell_type": "code",
   "execution_count": 57,
   "id": "73c9d218",
   "metadata": {},
   "outputs": [],
   "source": [
    "url='https://www.cars24.com/buy-used-car?sort=P&storeCityId=2&pinId=110001'\n",
    "driver.get(url)"
   ]
  },
  {
   "cell_type": "code",
   "execution_count": 84,
   "id": "f9d0cc7d",
   "metadata": {},
   "outputs": [
    {
     "name": "stdout",
     "output_type": "stream",
     "text": [
      "2,66,199\n"
     ]
    }
   ],
   "source": [
    "car=driver.find_elements(By.XPATH,'//div[@class = \"_1l4fi\"]')       #scraping urls\n",
    "for i in car[:1]:\n",
    "    print(i.text.split(\"\\n\")[6].split(\"₹\")[1])\n"
   ]
  },
  {
   "cell_type": "code",
   "execution_count": 91,
   "id": "5ff3a4d2",
   "metadata": {},
   "outputs": [],
   "source": [
    "scroll_pause_time = 3 # You can set your own pause time. My laptop is a bit slow so I use 1 sec\n",
    "screen_height = driver.execute_script(\"return window.screen.height;\")   # get the screen height of the web\n",
    "i = 1\n",
    "\n",
    "while True:\n",
    "    \n",
    "    # scroll one screen height each time\n",
    "    driver.execute_script(\"window.scrollTo(0, {screen_height}*{i});\".format(screen_height=screen_height, i=i))  \n",
    "    i += 1\n",
    "    time.sleep(scroll_pause_time)\n",
    "    # update scroll height each time after scrolled, as the scroll height can change after we scrolled the page\n",
    "    scroll_height = driver.execute_script(\"return document.body.scrollHeight;\")  \n",
    "    # Break the loop when the height we need to scroll to is larger than the total scroll height\n",
    "    if (screen_height) * i > scroll_height:\n",
    "        break\n",
    "        \n",
    "car=driver.find_elements(By.XPATH,'//div[@class = \"_1l4fi\"]')       #scraping urls\n",
    "for i in car:\n",
    "    manufacture_yr.append(i.text.split(\"\\n\")[0].split(\" \")[0])\n",
    "    brand.append(i.text.split(\"\\n\")[0].split(\" \")[1])\n",
    "    model.append(i.text.split(\"\\n\")[0].split(\" \")[2])\n",
    "    variant.append(i.text.split(\"\\n\")[1].split(\" \")[0])\n",
    "    driven_kms.append(i.text.split(\"\\n\")[2].split(\" \")[0])\n",
    "    fuel.append(i.text.split(\"\\n\")[4])\n",
    "    control.append(i.text.split(\"\\n\")[1].split(\" \")[-1])\n",
    "    price.append(i.text.split(\"\\n\")[6].split(\"₹\")[1])"
   ]
  },
  {
   "cell_type": "code",
   "execution_count": 102,
   "id": "b6046cc4",
   "metadata": {},
   "outputs": [
    {
     "name": "stdout",
     "output_type": "stream",
     "text": [
      "480\n",
      "480\n",
      "480\n",
      "480\n",
      "480\n",
      "480\n",
      "480\n",
      "480\n"
     ]
    }
   ],
   "source": [
    "print(len(fuel))  \n",
    "print(len(control))\n",
    "print(len(brand))\n",
    "print(len(model))\n",
    "print(len(manufacture_yr))\n",
    "print(len(variant))\n",
    "print(len(price))\n",
    "print(len(driven_kms))"
   ]
  },
  {
   "cell_type": "code",
   "execution_count": 93,
   "id": "6cec9337",
   "metadata": {},
   "outputs": [],
   "source": [
    "#used cars in mumbai\n",
    "url='https://www.cars24.com/buy-used-car?sort=P&storeCityId=2378&pinId=400001'\n",
    "driver.get(url)"
   ]
  },
  {
   "cell_type": "code",
   "execution_count": 97,
   "id": "200c4e4f",
   "metadata": {},
   "outputs": [
    {
     "name": "stdout",
     "output_type": "stream",
     "text": [
      "2020\n",
      "Maruti\n",
      "Swift\n",
      "VXI\n",
      "7,112\n",
      "Petrol\n",
      "Manual\n",
      "6,69,799\n"
     ]
    }
   ],
   "source": [
    "car=driver.find_elements(By.XPATH,'//div[@class = \"_1l4fi\"]')       #scraping urls\n",
    "for i in car[:1]:\n",
    "    print(i.text.split(\"\\n\")[0].split(\" \")[0])\n",
    "    print(i.text.split(\"\\n\")[0].split(\" \")[1])\n",
    "    print(i.text.split(\"\\n\")[0].split(\" \")[2])\n",
    "    print(i.text.split(\"\\n\")[1].split(\" \")[0])\n",
    "    print(i.text.split(\"\\n\")[2].split(\" \")[0])\n",
    "    print(i.text.split(\"\\n\")[4])\n",
    "    print(i.text.split(\"\\n\")[1].split(\" \")[-1])\n",
    "    print(i.text.split(\"\\n\")[6].split(\"₹\")[1])"
   ]
  },
  {
   "cell_type": "code",
   "execution_count": 98,
   "id": "46c8e41b",
   "metadata": {},
   "outputs": [],
   "source": [
    "scroll_pause_time = 3 # You can set your own pause time. My laptop is a bit slow so I use 1 sec\n",
    "screen_height = driver.execute_script(\"return window.screen.height;\")   # get the screen height of the web\n",
    "i = 1\n",
    "\n",
    "while True:\n",
    "    \n",
    "    # scroll one screen height each time\n",
    "    driver.execute_script(\"window.scrollTo(0, {screen_height}*{i});\".format(screen_height=screen_height, i=i))  \n",
    "    i += 1\n",
    "    time.sleep(scroll_pause_time)\n",
    "    # update scroll height each time after scrolled, as the scroll height can change after we scrolled the page\n",
    "    scroll_height = driver.execute_script(\"return document.body.scrollHeight;\")  \n",
    "    # Break the loop when the height we need to scroll to is larger than the total scroll height\n",
    "    if (screen_height) * i > scroll_height:\n",
    "        break\n",
    "        \n",
    "car=driver.find_elements(By.XPATH,'//div[@class = \"_1l4fi\"]')       #scraping urls\n",
    "for i in car:\n",
    "    manufacture_yr.append(i.text.split(\"\\n\")[0].split(\" \")[0])\n",
    "    brand.append(i.text.split(\"\\n\")[0].split(\" \")[1])\n",
    "    model.append(i.text.split(\"\\n\")[0].split(\" \")[2])\n",
    "    variant.append(i.text.split(\"\\n\")[1].split(\" \")[0])\n",
    "    driven_kms.append(i.text.split(\"\\n\")[2].split(\" \")[0])\n",
    "    fuel.append(i.text.split(\"\\n\")[4])\n",
    "    control.append(i.text.split(\"\\n\")[1].split(\" \")[-1])\n",
    "    price.append(i.text.split(\"\\n\")[6].split(\"₹\")[1])"
   ]
  },
  {
   "cell_type": "code",
   "execution_count": 100,
   "id": "1df218ac",
   "metadata": {},
   "outputs": [],
   "source": [
    "#used cars in banglore\n",
    "url='https://www.cars24.com/buy-used-car?sort=P&storeCityId=2378&pinId=560001'\n",
    "driver.get(url)"
   ]
  },
  {
   "cell_type": "code",
   "execution_count": 101,
   "id": "f1f7d14b",
   "metadata": {},
   "outputs": [],
   "source": [
    "scroll_pause_time = 3 # You can set your own pause time. My laptop is a bit slow so I use 1 sec\n",
    "screen_height = driver.execute_script(\"return window.screen.height;\")   # get the screen height of the web\n",
    "i = 1\n",
    "\n",
    "while True:\n",
    "    \n",
    "    # scroll one screen height each time\n",
    "    driver.execute_script(\"window.scrollTo(0, {screen_height}*{i});\".format(screen_height=screen_height, i=i))  \n",
    "    i += 1\n",
    "    time.sleep(scroll_pause_time)\n",
    "    # update scroll height each time after scrolled, as the scroll height can change after we scrolled the page\n",
    "    scroll_height = driver.execute_script(\"return document.body.scrollHeight;\")  \n",
    "    # Break the loop when the height we need to scroll to is larger than the total scroll height\n",
    "    if (screen_height) * i > scroll_height:\n",
    "        break\n",
    "        \n",
    "car=driver.find_elements(By.XPATH,'//div[@class = \"_1l4fi\"]')       #scraping urls\n",
    "for i in car:\n",
    "    manufacture_yr.append(i.text.split(\"\\n\")[0].split(\" \")[0])\n",
    "    brand.append(i.text.split(\"\\n\")[0].split(\" \")[1])\n",
    "    model.append(i.text.split(\"\\n\")[0].split(\" \")[2])\n",
    "    variant.append(i.text.split(\"\\n\")[1].split(\" \")[0])\n",
    "    driven_kms.append(i.text.split(\"\\n\")[2].split(\" \")[0])\n",
    "    fuel.append(i.text.split(\"\\n\")[4])\n",
    "    control.append(i.text.split(\"\\n\")[1].split(\" \")[-1])\n",
    "    price.append(i.text.split(\"\\n\")[6].split(\"₹\")[1])"
   ]
  },
  {
   "cell_type": "code",
   "execution_count": 103,
   "id": "7f79613b",
   "metadata": {},
   "outputs": [],
   "source": [
    "#used cars in pune\n",
    "url='https://www.cars24.com/buy-used-car?sort=P&storeCityId=2378&pinId=411001'\n",
    "driver.get(url)"
   ]
  },
  {
   "cell_type": "code",
   "execution_count": 106,
   "id": "3f146d74",
   "metadata": {},
   "outputs": [],
   "source": [
    "for _ in range(20):\n",
    "    car=driver.find_elements(By.XPATH,'//div[@class = \"_1l4fi\"]')       #scraping urls\n",
    "    for i in car:\n",
    "        manufacture_yr.append(i.text.split(\"\\n\")[0].split(\" \")[0])\n",
    "        brand.append(i.text.split(\"\\n\")[0].split(\" \")[1])\n",
    "        model.append(i.text.split(\"\\n\")[0].split(\" \")[2])\n",
    "        variant.append(i.text.split(\"\\n\")[1].split(\" \")[0])\n",
    "        driven_kms.append(i.text.split(\"\\n\")[2].split(\" \")[0])\n",
    "        fuel.append(i.text.split(\"\\n\")[4])\n",
    "        control.append(i.text.split(\"\\n\")[1].split(\" \")[-1])\n",
    "        price.append(i.text.split(\"\\n\")[6].split(\"₹\")[1])\n",
    "    driver.execute_script(\"window.scrollTo(0,1000)\")\n",
    "    time.sleep(3)\n",
    "\n",
    "    "
   ]
  },
  {
   "cell_type": "code",
   "execution_count": 107,
   "id": "f9d6e042",
   "metadata": {},
   "outputs": [
    {
     "name": "stdout",
     "output_type": "stream",
     "text": [
      "900\n",
      "900\n",
      "900\n",
      "900\n",
      "900\n",
      "900\n",
      "900\n",
      "900\n"
     ]
    }
   ],
   "source": [
    "print(len(fuel))  \n",
    "print(len(control))\n",
    "print(len(brand))\n",
    "print(len(model))\n",
    "print(len(manufacture_yr))\n",
    "print(len(variant))\n",
    "print(len(price))\n",
    "print(len(driven_kms))"
   ]
  },
  {
   "cell_type": "code",
   "execution_count": 108,
   "id": "757cb481",
   "metadata": {},
   "outputs": [],
   "source": [
    "#used cars in hyderabad\n",
    "url='https://www.cars24.com/buy-used-car?sort=P&storeCityId=2378&pinId=500001'\n",
    "driver.get(url)"
   ]
  },
  {
   "cell_type": "code",
   "execution_count": 109,
   "id": "a5d9f72c",
   "metadata": {},
   "outputs": [],
   "source": [
    "for _ in range(20):\n",
    "    car=driver.find_elements(By.XPATH,'//div[@class = \"_1l4fi\"]')       #scraping urls\n",
    "    for i in car:\n",
    "        manufacture_yr.append(i.text.split(\"\\n\")[0].split(\" \")[0])\n",
    "        brand.append(i.text.split(\"\\n\")[0].split(\" \")[1])\n",
    "        model.append(i.text.split(\"\\n\")[0].split(\" \")[2])\n",
    "        variant.append(i.text.split(\"\\n\")[1].split(\" \")[0])\n",
    "        driven_kms.append(i.text.split(\"\\n\")[2].split(\" \")[0])\n",
    "        fuel.append(i.text.split(\"\\n\")[4])\n",
    "        control.append(i.text.split(\"\\n\")[1].split(\" \")[-1])\n",
    "        price.append(i.text.split(\"\\n\")[6].split(\"₹\")[1])\n",
    "    driver.execute_script(\"window.scrollTo(0,1000)\")\n",
    "    time.sleep(3)"
   ]
  },
  {
   "cell_type": "code",
   "execution_count": 110,
   "id": "2bd4a730",
   "metadata": {},
   "outputs": [
    {
     "name": "stdout",
     "output_type": "stream",
     "text": [
      "1300\n",
      "1300\n",
      "1300\n",
      "1300\n",
      "1300\n",
      "1300\n",
      "1300\n",
      "1300\n"
     ]
    }
   ],
   "source": [
    "print(len(fuel))  \n",
    "print(len(control))\n",
    "print(len(brand))\n",
    "print(len(model))\n",
    "print(len(manufacture_yr))\n",
    "print(len(variant))\n",
    "print(len(price))\n",
    "print(len(driven_kms))"
   ]
  },
  {
   "cell_type": "code",
   "execution_count": 111,
   "id": "22784e16",
   "metadata": {},
   "outputs": [],
   "source": [
    "#used cars in chennai\n",
    "url='https://www.cars24.com/buy-used-car?sort=P&storeCityId=2378&pinId=600001'\n",
    "driver.get(url)"
   ]
  },
  {
   "cell_type": "code",
   "execution_count": 112,
   "id": "deeb79f5",
   "metadata": {},
   "outputs": [],
   "source": [
    "for _ in range(20):\n",
    "    car=driver.find_elements(By.XPATH,'//div[@class = \"_1l4fi\"]')       #scraping urls\n",
    "    for i in car:\n",
    "        manufacture_yr.append(i.text.split(\"\\n\")[0].split(\" \")[0])\n",
    "        brand.append(i.text.split(\"\\n\")[0].split(\" \")[1])\n",
    "        model.append(i.text.split(\"\\n\")[0].split(\" \")[2])\n",
    "        variant.append(i.text.split(\"\\n\")[1].split(\" \")[0])\n",
    "        driven_kms.append(i.text.split(\"\\n\")[2].split(\" \")[0])\n",
    "        fuel.append(i.text.split(\"\\n\")[4])\n",
    "        control.append(i.text.split(\"\\n\")[1].split(\" \")[-1])\n",
    "        price.append(i.text.split(\"\\n\")[6].split(\"₹\")[1])\n",
    "    driver.execute_script(\"window.scrollTo(0,1000)\")\n",
    "    time.sleep(3)"
   ]
  },
  {
   "cell_type": "code",
   "execution_count": 113,
   "id": "bb1b3acb",
   "metadata": {},
   "outputs": [
    {
     "name": "stdout",
     "output_type": "stream",
     "text": [
      "1700\n",
      "1700\n",
      "1700\n",
      "1700\n",
      "1700\n",
      "1700\n",
      "1700\n",
      "1700\n"
     ]
    }
   ],
   "source": [
    "print(len(fuel))  \n",
    "print(len(control))\n",
    "print(len(brand))\n",
    "print(len(model))\n",
    "print(len(manufacture_yr))\n",
    "print(len(variant))\n",
    "print(len(price))\n",
    "print(len(driven_kms))"
   ]
  },
  {
   "cell_type": "code",
   "execution_count": 114,
   "id": "e083e07e",
   "metadata": {},
   "outputs": [],
   "source": [
    "#used cars in kolkatta\n",
    "url='https://www.cars24.com/buy-used-car?sort=P&storeCityId=2378&pinId=700001'\n",
    "driver.get(url)"
   ]
  },
  {
   "cell_type": "code",
   "execution_count": 115,
   "id": "ebf2d944",
   "metadata": {},
   "outputs": [],
   "source": [
    "for _ in range(20):\n",
    "    car=driver.find_elements(By.XPATH,'//div[@class = \"_1l4fi\"]')       #scraping urls\n",
    "    for i in car:\n",
    "        manufacture_yr.append(i.text.split(\"\\n\")[0].split(\" \")[0])\n",
    "        brand.append(i.text.split(\"\\n\")[0].split(\" \")[1])\n",
    "        model.append(i.text.split(\"\\n\")[0].split(\" \")[2])\n",
    "        variant.append(i.text.split(\"\\n\")[1].split(\" \")[0])\n",
    "        driven_kms.append(i.text.split(\"\\n\")[2].split(\" \")[0])\n",
    "        fuel.append(i.text.split(\"\\n\")[4])\n",
    "        control.append(i.text.split(\"\\n\")[1].split(\" \")[-1])\n",
    "        price.append(i.text.split(\"\\n\")[6].split(\"₹\")[1])\n",
    "    driver.execute_script(\"window.scrollTo(0,1000)\")\n",
    "    time.sleep(3)"
   ]
  },
  {
   "cell_type": "code",
   "execution_count": 116,
   "id": "bc9fb447",
   "metadata": {},
   "outputs": [
    {
     "name": "stdout",
     "output_type": "stream",
     "text": [
      "2100\n",
      "2100\n",
      "2100\n",
      "2100\n",
      "2100\n",
      "2100\n",
      "2100\n",
      "2100\n"
     ]
    }
   ],
   "source": [
    "print(len(fuel))  \n",
    "print(len(control))\n",
    "print(len(brand))\n",
    "print(len(model))\n",
    "print(len(manufacture_yr))\n",
    "print(len(variant))\n",
    "print(len(price))\n",
    "print(len(driven_kms))"
   ]
  },
  {
   "cell_type": "code",
   "execution_count": 117,
   "id": "22a5164f",
   "metadata": {},
   "outputs": [],
   "source": [
    "#used cars in ahemdabad\n",
    "url='https://www.cars24.com/buy-used-car?sort=P&storeCityId=2378&pinId=380001'\n",
    "driver.get(url)"
   ]
  },
  {
   "cell_type": "code",
   "execution_count": 118,
   "id": "26cede9f",
   "metadata": {},
   "outputs": [],
   "source": [
    "for _ in range(20):\n",
    "    car=driver.find_elements(By.XPATH,'//div[@class = \"_1l4fi\"]')       #scraping urls\n",
    "    for i in car:\n",
    "        manufacture_yr.append(i.text.split(\"\\n\")[0].split(\" \")[0])\n",
    "        brand.append(i.text.split(\"\\n\")[0].split(\" \")[1])\n",
    "        model.append(i.text.split(\"\\n\")[0].split(\" \")[2])\n",
    "        variant.append(i.text.split(\"\\n\")[1].split(\" \")[0])\n",
    "        driven_kms.append(i.text.split(\"\\n\")[2].split(\" \")[0])\n",
    "        fuel.append(i.text.split(\"\\n\")[4])\n",
    "        control.append(i.text.split(\"\\n\")[1].split(\" \")[-1])\n",
    "        price.append(i.text.split(\"\\n\")[6].split(\"₹\")[1])\n",
    "    driver.execute_script(\"window.scrollTo(0,1000)\")\n",
    "    time.sleep(3)"
   ]
  },
  {
   "cell_type": "code",
   "execution_count": 119,
   "id": "5dfdfcc2",
   "metadata": {},
   "outputs": [
    {
     "name": "stdout",
     "output_type": "stream",
     "text": [
      "2500\n",
      "2500\n",
      "2500\n",
      "2500\n",
      "2500\n",
      "2500\n",
      "2500\n",
      "2500\n"
     ]
    }
   ],
   "source": [
    "print(len(fuel))  \n",
    "print(len(control))\n",
    "print(len(brand))\n",
    "print(len(model))\n",
    "print(len(manufacture_yr))\n",
    "print(len(variant))\n",
    "print(len(price))\n",
    "print(len(driven_kms))"
   ]
  },
  {
   "cell_type": "code",
   "execution_count": 120,
   "id": "db10a9da",
   "metadata": {},
   "outputs": [],
   "source": [
    "#used cars in noida\n",
    "url='https://www.cars24.com/buy-used-car?sort=P&storeCityId=2378&pinId=201301'\n",
    "driver.get(url)"
   ]
  },
  {
   "cell_type": "code",
   "execution_count": 121,
   "id": "dbddd9ef",
   "metadata": {},
   "outputs": [],
   "source": [
    "for _ in range(20):\n",
    "    car=driver.find_elements(By.XPATH,'//div[@class = \"_1l4fi\"]')       #scraping urls\n",
    "    for i in car:\n",
    "        manufacture_yr.append(i.text.split(\"\\n\")[0].split(\" \")[0])\n",
    "        brand.append(i.text.split(\"\\n\")[0].split(\" \")[1])\n",
    "        model.append(i.text.split(\"\\n\")[0].split(\" \")[2])\n",
    "        variant.append(i.text.split(\"\\n\")[1].split(\" \")[0])\n",
    "        driven_kms.append(i.text.split(\"\\n\")[2].split(\" \")[0])\n",
    "        fuel.append(i.text.split(\"\\n\")[4])\n",
    "        control.append(i.text.split(\"\\n\")[1].split(\" \")[-1])\n",
    "        price.append(i.text.split(\"\\n\")[6].split(\"₹\")[1])\n",
    "    driver.execute_script(\"window.scrollTo(0,1000)\")\n",
    "    time.sleep(3)"
   ]
  },
  {
   "cell_type": "code",
   "execution_count": 122,
   "id": "8776ef94",
   "metadata": {},
   "outputs": [
    {
     "name": "stdout",
     "output_type": "stream",
     "text": [
      "2900\n",
      "2900\n",
      "2900\n",
      "2900\n",
      "2900\n",
      "2900\n",
      "2900\n",
      "2900\n"
     ]
    }
   ],
   "source": [
    "print(len(fuel))  \n",
    "print(len(control))\n",
    "print(len(brand))\n",
    "print(len(model))\n",
    "print(len(manufacture_yr))\n",
    "print(len(variant))\n",
    "print(len(price))\n",
    "print(len(driven_kms))"
   ]
  },
  {
   "cell_type": "code",
   "execution_count": 123,
   "id": "77bbb11c",
   "metadata": {},
   "outputs": [],
   "source": [
    "#used cars in gurgaon\n",
    "url='https://www.cars24.com/buy-used-car?sort=P&storeCityId=2378&pinId=122001'\n",
    "driver.get(url)"
   ]
  },
  {
   "cell_type": "code",
   "execution_count": 124,
   "id": "b454e4a2",
   "metadata": {},
   "outputs": [],
   "source": [
    "for _ in range(20):\n",
    "    car=driver.find_elements(By.XPATH,'//div[@class = \"_1l4fi\"]')       #scraping urls\n",
    "    for i in car:\n",
    "        manufacture_yr.append(i.text.split(\"\\n\")[0].split(\" \")[0])\n",
    "        brand.append(i.text.split(\"\\n\")[0].split(\" \")[1])\n",
    "        model.append(i.text.split(\"\\n\")[0].split(\" \")[2])\n",
    "        variant.append(i.text.split(\"\\n\")[1].split(\" \")[0])\n",
    "        driven_kms.append(i.text.split(\"\\n\")[2].split(\" \")[0])\n",
    "        fuel.append(i.text.split(\"\\n\")[4])\n",
    "        control.append(i.text.split(\"\\n\")[1].split(\" \")[-1])\n",
    "        price.append(i.text.split(\"\\n\")[6].split(\"₹\")[1])\n",
    "    driver.execute_script(\"window.scrollTo(0,1000)\")\n",
    "    time.sleep(3)"
   ]
  },
  {
   "cell_type": "code",
   "execution_count": 125,
   "id": "5cc6930a",
   "metadata": {},
   "outputs": [
    {
     "name": "stdout",
     "output_type": "stream",
     "text": [
      "3300\n",
      "3300\n",
      "3300\n",
      "3300\n",
      "3300\n",
      "3300\n",
      "3300\n",
      "3300\n"
     ]
    }
   ],
   "source": [
    "print(len(fuel))  \n",
    "print(len(control))\n",
    "print(len(brand))\n",
    "print(len(model))\n",
    "print(len(manufacture_yr))\n",
    "print(len(variant))\n",
    "print(len(price))\n",
    "print(len(driven_kms))"
   ]
  },
  {
   "cell_type": "code",
   "execution_count": 126,
   "id": "a3b37c70",
   "metadata": {},
   "outputs": [],
   "source": [
    "#used cars in mumbai\n",
    "url='https://www.cars24.com/buy-used-car?sort=P&storeCityId=2378&pinId=400001'\n",
    "driver.get(url)"
   ]
  },
  {
   "cell_type": "code",
   "execution_count": 127,
   "id": "3b917ba7",
   "metadata": {},
   "outputs": [],
   "source": [
    "for _ in range(20):\n",
    "    car=driver.find_elements(By.XPATH,'//div[@class = \"_1l4fi\"]')       #scraping urls\n",
    "    for i in car:\n",
    "        manufacture_yr.append(i.text.split(\"\\n\")[0].split(\" \")[0])\n",
    "        brand.append(i.text.split(\"\\n\")[0].split(\" \")[1])\n",
    "        model.append(i.text.split(\"\\n\")[0].split(\" \")[2])\n",
    "        variant.append(i.text.split(\"\\n\")[1].split(\" \")[0])\n",
    "        driven_kms.append(i.text.split(\"\\n\")[2].split(\" \")[0])\n",
    "        fuel.append(i.text.split(\"\\n\")[4])\n",
    "        control.append(i.text.split(\"\\n\")[1].split(\" \")[-1])\n",
    "        price.append(i.text.split(\"\\n\")[6].split(\"₹\")[1])\n",
    "    driver.execute_script(\"window.scrollTo(0,1000)\")\n",
    "    time.sleep(3)"
   ]
  },
  {
   "cell_type": "code",
   "execution_count": 128,
   "id": "3cd0c87f",
   "metadata": {},
   "outputs": [
    {
     "name": "stdout",
     "output_type": "stream",
     "text": [
      "3700\n",
      "3700\n",
      "3700\n",
      "3700\n",
      "3700\n",
      "3700\n",
      "3700\n",
      "3700\n"
     ]
    }
   ],
   "source": [
    "print(len(fuel))  \n",
    "print(len(control))\n",
    "print(len(brand))\n",
    "print(len(model))\n",
    "print(len(manufacture_yr))\n",
    "print(len(variant))\n",
    "print(len(price))\n",
    "print(len(driven_kms))"
   ]
  },
  {
   "cell_type": "markdown",
   "id": "00962c6a",
   "metadata": {},
   "source": [
    "## cardekho"
   ]
  },
  {
   "cell_type": "code",
   "execution_count": 138,
   "id": "220b9da0",
   "metadata": {},
   "outputs": [],
   "source": [
    "#Delhi/NCR\n",
    "url='https://www.cardekho.com/used-cars+in+delhi-ncr'\n",
    "driver.get(url)"
   ]
  },
  {
   "cell_type": "code",
   "execution_count": 158,
   "id": "c002ee40",
   "metadata": {},
   "outputs": [],
   "source": [
    "for _ in range(20):\n",
    "    car=driver.find_elements(By.XPATH,'//div[@class = \"gsc_col-xs-7  carsName\"]')       #scraping urls\n",
    "    for i in car:\n",
    "        manufacture_yr.append(i.text.split(\"\\n\")[0].split(\" \")[0])\n",
    "        brand.append(i.text.split(\"\\n\")[0].split(\" \")[1])\n",
    "        model.append(i.text.split(\"\\n\")[0].split(\" \")[2])\n",
    "        variant.append(i.text.split(\"\\n\")[1])\n",
    "        driven_kms.append(i.text.split(\"\\n\")[3].split(\" \")[0])\n",
    "        \n",
    "        fuel.append(re.findall('[a-zA-Z][^A-Z]*', i.text.split(\"\\n\")[3].split(\" \")[1])[1])\n",
    "        control.append(re.findall('[a-zA-Z][^A-Z]*', i.text.split(\"\\n\")[3].split(\" \")[1])[2])\n",
    "        \n",
    "        price.append(i.text.split(\"\\n\")[2].split(\" \")[0].split(\"₹\")[1])\n",
    "    driver.execute_script(\"window.scrollTo(0,1000)\")\n",
    "    time.sleep(3)"
   ]
  },
  {
   "cell_type": "code",
   "execution_count": 159,
   "id": "fe8404ef",
   "metadata": {},
   "outputs": [
    {
     "name": "stdout",
     "output_type": "stream",
     "text": [
      "4100\n",
      "4100\n",
      "4100\n",
      "4100\n",
      "4100\n",
      "4100\n",
      "4100\n",
      "4100\n"
     ]
    }
   ],
   "source": [
    "print(len(fuel))  \n",
    "print(len(control))\n",
    "print(len(brand))\n",
    "print(len(model))\n",
    "print(len(manufacture_yr))\n",
    "print(len(variant))\n",
    "print(len(price))\n",
    "print(len(driven_kms))"
   ]
  },
  {
   "cell_type": "code",
   "execution_count": 160,
   "id": "2ffcd89e",
   "metadata": {},
   "outputs": [],
   "source": [
    "#Ahmedabad\n",
    "url='https://www.cardekho.com/used-cars+in+ahmedabad'\n",
    "driver.get(url)"
   ]
  },
  {
   "cell_type": "code",
   "execution_count": 173,
   "id": "0d40c0d7",
   "metadata": {},
   "outputs": [],
   "source": [
    "for _ in range(20):\n",
    "    car=driver.find_elements(By.XPATH,'//div[@class = \"gsc_col-xs-7  carsName\"]')       #scraping urls\n",
    "    for i in car:\n",
    "        manufacture_yr.append(i.text.split(\"\\n\")[0].split(\" \")[0])\n",
    "        brand.append(i.text.split(\"\\n\")[0].split(\" \")[1])\n",
    "        model.append(i.text.split(\"\\n\")[0].split(\" \")[-1])\n",
    "        variant.append(i.text.split(\"\\n\")[1])\n",
    "        driven_kms.append(i.text.split(\"\\n\")[3].split(\" \")[0])\n",
    "        \n",
    "        fuel.append(i.text.split(\"\\n\")[4])\n",
    "        control.append(i.text.split(\"\\n\")[5])\n",
    "        \n",
    "        price.append(i.text.split(\"\\n\")[2].split(\" \")[0].split(\"₹\")[1])\n",
    "    driver.execute_script(\"window.scrollTo(0,1000)\")\n",
    "    time.sleep(3)"
   ]
  },
  {
   "cell_type": "code",
   "execution_count": 174,
   "id": "47589dda",
   "metadata": {},
   "outputs": [
    {
     "name": "stdout",
     "output_type": "stream",
     "text": [
      "4500\n",
      "4500\n",
      "4503\n",
      "4503\n",
      "4503\n",
      "4503\n",
      "4500\n",
      "4503\n"
     ]
    }
   ],
   "source": [
    "print(len(fuel))  \n",
    "print(len(control))\n",
    "print(len(brand))\n",
    "print(len(model))\n",
    "print(len(manufacture_yr))\n",
    "print(len(variant))\n",
    "print(len(price))\n",
    "print(len(driven_kms))"
   ]
  },
  {
   "cell_type": "code",
   "execution_count": 175,
   "id": "11436dee",
   "metadata": {},
   "outputs": [],
   "source": [
    "brand=brand[:4500]\n",
    "model=model[:4500]\n",
    "manufacture_yr=manufacture_yr[:4500]\n",
    "variant=variant[:4500]\n",
    "driven_kms=driven_kms[:4500]"
   ]
  },
  {
   "cell_type": "code",
   "execution_count": 176,
   "id": "8a9e1efb",
   "metadata": {},
   "outputs": [
    {
     "name": "stdout",
     "output_type": "stream",
     "text": [
      "4500\n",
      "4500\n",
      "4500\n",
      "4500\n",
      "4500\n",
      "4500\n",
      "4500\n",
      "4500\n"
     ]
    }
   ],
   "source": [
    "print(len(fuel))  \n",
    "print(len(control))\n",
    "print(len(brand))\n",
    "print(len(model))\n",
    "print(len(manufacture_yr))\n",
    "print(len(variant))\n",
    "print(len(price))\n",
    "print(len(driven_kms))"
   ]
  },
  {
   "cell_type": "code",
   "execution_count": 177,
   "id": "907067eb",
   "metadata": {},
   "outputs": [],
   "source": [
    "#banglore\n",
    "url='https://www.cardekho.com/used-cars+in+bangalore'\n",
    "driver.get(url)"
   ]
  },
  {
   "cell_type": "code",
   "execution_count": 179,
   "id": "34897aa9",
   "metadata": {},
   "outputs": [
    {
     "name": "stdout",
     "output_type": "stream",
     "text": [
      "2020\n",
      "Maruti\n",
      "Dzire\n",
      "ZXI 1.2\n",
      "33,221\n",
      "Petrol\n",
      "Manual\n",
      "8.15\n"
     ]
    }
   ],
   "source": [
    "car=driver.find_elements(By.XPATH,'//div[@class = \"gsc_col-xs-7  carsName\"]')       #scraping urls\n",
    "for i in car[:1]:\n",
    "    print(i.text.split(\"\\n\")[0].split(\" \")[0])\n",
    "    print(i.text.split(\"\\n\")[0].split(\" \")[1])\n",
    "    print(i.text.split(\"\\n\")[0].split(\" \")[-1])\n",
    "    print(i.text.split(\"\\n\")[1])\n",
    "    print(i.text.split(\"\\n\")[3].split(\" \")[0])\n",
    "        \n",
    "    print(i.text.split(\"\\n\")[4])\n",
    "    print(i.text.split(\"\\n\")[5])\n",
    "        \n",
    "    print(i.text.split(\"\\n\")[2].split(\" \")[0].split(\"₹\")[1])"
   ]
  },
  {
   "cell_type": "code",
   "execution_count": 180,
   "id": "7da01082",
   "metadata": {},
   "outputs": [],
   "source": [
    "for _ in range(40):\n",
    "    car=driver.find_elements(By.XPATH,'//div[@class = \"gsc_col-xs-7  carsName\"]')       #scraping urls\n",
    "    for i in car:\n",
    "        manufacture_yr.append(i.text.split(\"\\n\")[0].split(\" \")[0])\n",
    "        brand.append(i.text.split(\"\\n\")[0].split(\" \")[1])\n",
    "        model.append(i.text.split(\"\\n\")[0].split(\" \")[-1])\n",
    "        variant.append(i.text.split(\"\\n\")[1])\n",
    "        driven_kms.append(i.text.split(\"\\n\")[3].split(\" \")[0])\n",
    "        \n",
    "        fuel.append(i.text.split(\"\\n\")[4])\n",
    "        control.append(i.text.split(\"\\n\")[5])\n",
    "        \n",
    "        price.append(i.text.split(\"\\n\")[2].split(\" \")[0].split(\"₹\")[1])\n",
    "    driver.execute_script(\"window.scrollTo(0,1000)\")\n",
    "    time.sleep(3)"
   ]
  },
  {
   "cell_type": "code",
   "execution_count": 181,
   "id": "628ff210",
   "metadata": {},
   "outputs": [
    {
     "name": "stdout",
     "output_type": "stream",
     "text": [
      "5300\n",
      "5300\n",
      "5300\n",
      "5300\n",
      "5300\n",
      "5300\n",
      "5300\n",
      "5300\n"
     ]
    }
   ],
   "source": [
    "print(len(fuel))  \n",
    "print(len(control))\n",
    "print(len(brand))\n",
    "print(len(model))\n",
    "print(len(manufacture_yr))\n",
    "print(len(variant))\n",
    "print(len(price))\n",
    "print(len(driven_kms))"
   ]
  },
  {
   "cell_type": "code",
   "execution_count": 182,
   "id": "68dad99c",
   "metadata": {},
   "outputs": [],
   "source": [
    "#mumbai\n",
    "url='https://www.cardekho.com/used-cars+in+mumbai'\n",
    "driver.get(url)"
   ]
  },
  {
   "cell_type": "code",
   "execution_count": 184,
   "id": "d0efa003",
   "metadata": {},
   "outputs": [],
   "source": [
    "for _ in range(40):\n",
    "    car=driver.find_elements(By.XPATH,'//div[@class = \"gsc_col-xs-7  carsName\"]')       #scraping urls\n",
    "    for i in car:\n",
    "        manufacture_yr.append(i.text.split(\"\\n\")[0].split(\" \")[0])\n",
    "        brand.append(i.text.split(\"\\n\")[0].split(\" \")[1])\n",
    "        model.append(i.text.split(\"\\n\")[0].split(\" \")[-1])\n",
    "        variant.append(i.text.split(\"\\n\")[1])\n",
    "        driven_kms.append(i.text.split(\"\\n\")[3].split(\" \")[0])\n",
    "        \n",
    "        fuel.append(i.text.split(\"\\n\")[4])\n",
    "        control.append(i.text.split(\"\\n\")[5])\n",
    "        \n",
    "        price.append(i.text.split(\"\\n\")[2].split(\" \")[0].split(\"₹\")[1])\n",
    "    driver.execute_script(\"window.scrollTo(0,1000)\")\n",
    "    time.sleep(3)"
   ]
  },
  {
   "cell_type": "code",
   "execution_count": 185,
   "id": "bbd46f64",
   "metadata": {},
   "outputs": [
    {
     "name": "stdout",
     "output_type": "stream",
     "text": [
      "6100\n",
      "6100\n",
      "6100\n",
      "6100\n",
      "6100\n",
      "6100\n",
      "6100\n",
      "6100\n"
     ]
    }
   ],
   "source": [
    "print(len(fuel))  \n",
    "print(len(control))\n",
    "print(len(brand))\n",
    "print(len(model))\n",
    "print(len(manufacture_yr))\n",
    "print(len(variant))\n",
    "print(len(price))\n",
    "print(len(driven_kms))"
   ]
  },
  {
   "cell_type": "code",
   "execution_count": 186,
   "id": "2d73a7da",
   "metadata": {},
   "outputs": [],
   "source": [
    "#gurgaon\n",
    "url='https://www.cardekho.com/used-cars+in+gurgaon'\n",
    "driver.get(url)"
   ]
  },
  {
   "cell_type": "code",
   "execution_count": 187,
   "id": "acf361e8",
   "metadata": {},
   "outputs": [],
   "source": [
    "for _ in range(60):\n",
    "    car=driver.find_elements(By.XPATH,'//div[@class = \"gsc_col-xs-7  carsName\"]')       #scraping urls\n",
    "    for i in car:\n",
    "        manufacture_yr.append(i.text.split(\"\\n\")[0].split(\" \")[0])\n",
    "        brand.append(i.text.split(\"\\n\")[0].split(\" \")[1])\n",
    "        model.append(i.text.split(\"\\n\")[0].split(\" \")[-1])\n",
    "        variant.append(i.text.split(\"\\n\")[1])\n",
    "        driven_kms.append(i.text.split(\"\\n\")[3].split(\" \")[0])\n",
    "        \n",
    "        fuel.append(i.text.split(\"\\n\")[4])\n",
    "        control.append(i.text.split(\"\\n\")[5])\n",
    "        \n",
    "        price.append(i.text.split(\"\\n\")[2].split(\" \")[0].split(\"₹\")[1])\n",
    "    driver.execute_script(\"window.scrollTo(0,1000)\")\n",
    "    time.sleep(3)"
   ]
  },
  {
   "cell_type": "code",
   "execution_count": 188,
   "id": "a3f2bd74",
   "metadata": {},
   "outputs": [
    {
     "name": "stdout",
     "output_type": "stream",
     "text": [
      "7300\n",
      "7300\n",
      "7300\n",
      "7300\n",
      "7300\n",
      "7300\n",
      "7300\n",
      "7300\n"
     ]
    }
   ],
   "source": [
    "print(len(fuel))  \n",
    "print(len(control))\n",
    "print(len(brand))\n",
    "print(len(model))\n",
    "print(len(manufacture_yr))\n",
    "print(len(variant))\n",
    "print(len(price))\n",
    "print(len(driven_kms))"
   ]
  },
  {
   "cell_type": "code",
   "execution_count": 189,
   "id": "1d6b6b23",
   "metadata": {},
   "outputs": [],
   "source": [
    "#hyderabad\n",
    "url='https://www.cardekho.com/used-cars+in+hyderabad'\n",
    "driver.get(url)"
   ]
  },
  {
   "cell_type": "code",
   "execution_count": 190,
   "id": "5ab537db",
   "metadata": {},
   "outputs": [],
   "source": [
    "for _ in range(60):\n",
    "    car=driver.find_elements(By.XPATH,'//div[@class = \"gsc_col-xs-7  carsName\"]')       #scraping urls\n",
    "    for i in car:\n",
    "        manufacture_yr.append(i.text.split(\"\\n\")[0].split(\" \")[0])\n",
    "        brand.append(i.text.split(\"\\n\")[0].split(\" \")[1])\n",
    "        model.append(i.text.split(\"\\n\")[0].split(\" \")[-1])\n",
    "        variant.append(i.text.split(\"\\n\")[1])\n",
    "        driven_kms.append(i.text.split(\"\\n\")[3].split(\" \")[0])\n",
    "        \n",
    "        fuel.append(i.text.split(\"\\n\")[4])\n",
    "        control.append(i.text.split(\"\\n\")[5])\n",
    "        \n",
    "        price.append(i.text.split(\"\\n\")[2].split(\" \")[0].split(\"₹\")[1])\n",
    "    driver.execute_script(\"window.scrollTo(0,1000)\")\n",
    "    time.sleep(3)"
   ]
  },
  {
   "cell_type": "code",
   "execution_count": 191,
   "id": "f2012d90",
   "metadata": {
    "scrolled": true
   },
   "outputs": [
    {
     "name": "stdout",
     "output_type": "stream",
     "text": [
      "8500\n",
      "8500\n",
      "8500\n",
      "8500\n",
      "8500\n",
      "8500\n",
      "8500\n",
      "8500\n"
     ]
    }
   ],
   "source": [
    "print(len(fuel))  \n",
    "print(len(control))\n",
    "print(len(brand))\n",
    "print(len(model))\n",
    "print(len(manufacture_yr))\n",
    "print(len(variant))\n",
    "print(len(price))\n",
    "print(len(driven_kms))"
   ]
  },
  {
   "cell_type": "code",
   "execution_count": 208,
   "id": "02853fa3",
   "metadata": {},
   "outputs": [],
   "source": [
    "#chennai\n",
    "url='https://www.cardekho.com/used-cars+in+chennai'\n",
    "driver.get(url)"
   ]
  },
  {
   "cell_type": "code",
   "execution_count": 209,
   "id": "0199d823",
   "metadata": {},
   "outputs": [],
   "source": [
    "for _ in range(60):\n",
    "    car=driver.find_elements(By.XPATH,'//div[@class = \"gsc_col-xs-7  carsName\"]')       #scraping urls\n",
    "    for i in car:\n",
    "        manufacture_yr.append(i.text.split(\"\\n\")[0].split(\" \")[0])\n",
    "        brand.append(i.text.split(\"\\n\")[0].split(\" \")[1])\n",
    "        model.append(i.text.split(\"\\n\")[0].split(\" \")[-1])\n",
    "        variant.append(i.text.split(\"\\n\")[1])\n",
    "        driven_kms.append(i.text.split(\"\\n\")[3].split(\" \")[0])\n",
    "        \n",
    "        fuel.append(i.text.split(\"\\n\")[4])\n",
    "        control.append(i.text.split(\"\\n\")[5])\n",
    "        \n",
    "        price.append(i.text.split(\"\\n\")[2].split(\" \")[0].split(\"₹\")[1])\n",
    "    driver.execute_script(\"window.scrollTo(0,1000)\")\n",
    "    time.sleep(3)"
   ]
  },
  {
   "cell_type": "code",
   "execution_count": 210,
   "id": "03c6e173",
   "metadata": {},
   "outputs": [
    {
     "name": "stdout",
     "output_type": "stream",
     "text": [
      "9700\n",
      "9700\n",
      "9700\n",
      "9700\n",
      "9700\n",
      "9700\n",
      "9700\n",
      "9700\n"
     ]
    }
   ],
   "source": [
    "print(len(fuel))  \n",
    "print(len(control))\n",
    "print(len(brand))\n",
    "print(len(model))\n",
    "print(len(manufacture_yr))\n",
    "print(len(variant))\n",
    "print(len(price))\n",
    "print(len(driven_kms))"
   ]
  },
  {
   "cell_type": "code",
   "execution_count": 212,
   "id": "500afd86",
   "metadata": {},
   "outputs": [],
   "source": [
    "#Pune\n",
    "url='https://www.cardekho.com/used-cars+in+pune'\n",
    "driver.get(url)"
   ]
  },
  {
   "cell_type": "code",
   "execution_count": 213,
   "id": "aacef974",
   "metadata": {},
   "outputs": [],
   "source": [
    "for _ in range(60):\n",
    "    car=driver.find_elements(By.XPATH,'//div[@class = \"gsc_col-xs-7  carsName\"]')       #scraping urls\n",
    "    for i in car:\n",
    "        manufacture_yr.append(i.text.split(\"\\n\")[0].split(\" \")[0])\n",
    "        brand.append(i.text.split(\"\\n\")[0].split(\" \")[1])\n",
    "        model.append(i.text.split(\"\\n\")[0].split(\" \")[-1])\n",
    "        variant.append(i.text.split(\"\\n\")[1])\n",
    "        driven_kms.append(i.text.split(\"\\n\")[3].split(\" \")[0])\n",
    "        \n",
    "        fuel.append(i.text.split(\"\\n\")[4])\n",
    "        control.append(i.text.split(\"\\n\")[5])\n",
    "        \n",
    "        price.append(i.text.split(\"\\n\")[2].split(\" \")[0].split(\"₹\")[1])\n",
    "    driver.execute_script(\"window.scrollTo(0,1000)\")\n",
    "    time.sleep(3)"
   ]
  },
  {
   "cell_type": "code",
   "execution_count": 214,
   "id": "613c883d",
   "metadata": {},
   "outputs": [
    {
     "data": {
      "text/html": [
       "<div>\n",
       "<style scoped>\n",
       "    .dataframe tbody tr th:only-of-type {\n",
       "        vertical-align: middle;\n",
       "    }\n",
       "\n",
       "    .dataframe tbody tr th {\n",
       "        vertical-align: top;\n",
       "    }\n",
       "\n",
       "    .dataframe thead th {\n",
       "        text-align: right;\n",
       "    }\n",
       "</style>\n",
       "<table border=\"1\" class=\"dataframe\">\n",
       "  <thead>\n",
       "    <tr style=\"text-align: right;\">\n",
       "      <th></th>\n",
       "      <th>Brand</th>\n",
       "      <th>Model</th>\n",
       "      <th>Variant</th>\n",
       "      <th>ManufactureYr</th>\n",
       "      <th>Fuel type</th>\n",
       "      <th>Control</th>\n",
       "      <th>DrivenKms</th>\n",
       "      <th>Price</th>\n",
       "    </tr>\n",
       "  </thead>\n",
       "  <tbody>\n",
       "    <tr>\n",
       "      <th>0</th>\n",
       "      <td>Hyundai</td>\n",
       "      <td>i20</td>\n",
       "      <td>1.4 Sportz</td>\n",
       "      <td>2017</td>\n",
       "      <td>Diesel</td>\n",
       "      <td>Manual</td>\n",
       "      <td>49,197</td>\n",
       "      <td>6.25</td>\n",
       "    </tr>\n",
       "    <tr>\n",
       "      <th>1</th>\n",
       "      <td>Hyundai</td>\n",
       "      <td>Creta</td>\n",
       "      <td>1.6 VTVT SX Plus</td>\n",
       "      <td>2018</td>\n",
       "      <td>Petrol</td>\n",
       "      <td>Manual</td>\n",
       "      <td>26,985</td>\n",
       "      <td>9.26</td>\n",
       "    </tr>\n",
       "    <tr>\n",
       "      <th>2</th>\n",
       "      <td>Honda</td>\n",
       "      <td>City</td>\n",
       "      <td>VX MT</td>\n",
       "      <td>2020</td>\n",
       "      <td>Petrol</td>\n",
       "      <td>Manual</td>\n",
       "      <td>23,461</td>\n",
       "      <td>11.23</td>\n",
       "    </tr>\n",
       "    <tr>\n",
       "      <th>3</th>\n",
       "      <td>Maruti</td>\n",
       "      <td>Wagon</td>\n",
       "      <td>LXI BS IV</td>\n",
       "      <td>2016</td>\n",
       "      <td>Petrol</td>\n",
       "      <td>Manual</td>\n",
       "      <td>65,457</td>\n",
       "      <td>3.41</td>\n",
       "    </tr>\n",
       "    <tr>\n",
       "      <th>4</th>\n",
       "      <td>Hyundai</td>\n",
       "      <td>Creta</td>\n",
       "      <td>1.6 SX Option</td>\n",
       "      <td>2019</td>\n",
       "      <td>Petrol</td>\n",
       "      <td>Manual</td>\n",
       "      <td>24,697</td>\n",
       "      <td>13.16</td>\n",
       "    </tr>\n",
       "    <tr>\n",
       "      <th>...</th>\n",
       "      <td>...</td>\n",
       "      <td>...</td>\n",
       "      <td>...</td>\n",
       "      <td>...</td>\n",
       "      <td>...</td>\n",
       "      <td>...</td>\n",
       "      <td>...</td>\n",
       "      <td>...</td>\n",
       "    </tr>\n",
       "    <tr>\n",
       "      <th>7195</th>\n",
       "      <td>Land</td>\n",
       "      <td>2</td>\n",
       "      <td>SE</td>\n",
       "      <td>2014</td>\n",
       "      <td>Diesel</td>\n",
       "      <td>Automatic</td>\n",
       "      <td>80,000</td>\n",
       "      <td>18.50</td>\n",
       "    </tr>\n",
       "    <tr>\n",
       "      <th>7196</th>\n",
       "      <td>Honda</td>\n",
       "      <td>City</td>\n",
       "      <td>i VTEC CVT VX</td>\n",
       "      <td>2014</td>\n",
       "      <td>Petrol</td>\n",
       "      <td>Automatic</td>\n",
       "      <td>50,000</td>\n",
       "      <td>6.88</td>\n",
       "    </tr>\n",
       "    <tr>\n",
       "      <th>7197</th>\n",
       "      <td>Audi</td>\n",
       "      <td>RS5</td>\n",
       "      <td>Coupe</td>\n",
       "      <td>2011</td>\n",
       "      <td>Petrol</td>\n",
       "      <td>Automatic</td>\n",
       "      <td>55,000</td>\n",
       "      <td>35.00</td>\n",
       "    </tr>\n",
       "    <tr>\n",
       "      <th>7198</th>\n",
       "      <td>Hyundai</td>\n",
       "      <td>Creta</td>\n",
       "      <td>1.6 VTVT AT SX Plus</td>\n",
       "      <td>2018</td>\n",
       "      <td>Petrol</td>\n",
       "      <td>Automatic</td>\n",
       "      <td>36,200</td>\n",
       "      <td>12.60</td>\n",
       "    </tr>\n",
       "    <tr>\n",
       "      <th>7199</th>\n",
       "      <td>Tata</td>\n",
       "      <td>Nexon</td>\n",
       "      <td>XZ Plus DualTone Roof</td>\n",
       "      <td>2020</td>\n",
       "      <td>Petrol</td>\n",
       "      <td>Manual</td>\n",
       "      <td>40,000</td>\n",
       "      <td>9.75</td>\n",
       "    </tr>\n",
       "  </tbody>\n",
       "</table>\n",
       "<p>7200 rows × 8 columns</p>\n",
       "</div>"
      ],
      "text/plain": [
       "        Brand  Model                Variant ManufactureYr Fuel type  \\\n",
       "0     Hyundai    i20             1.4 Sportz          2017    Diesel   \n",
       "1     Hyundai  Creta       1.6 VTVT SX Plus          2018    Petrol   \n",
       "2       Honda   City                  VX MT          2020    Petrol   \n",
       "3      Maruti  Wagon              LXI BS IV          2016    Petrol   \n",
       "4     Hyundai  Creta          1.6 SX Option          2019    Petrol   \n",
       "...       ...    ...                    ...           ...       ...   \n",
       "7195     Land      2                     SE          2014    Diesel   \n",
       "7196    Honda   City          i VTEC CVT VX          2014    Petrol   \n",
       "7197     Audi    RS5                  Coupe          2011    Petrol   \n",
       "7198  Hyundai  Creta    1.6 VTVT AT SX Plus          2018    Petrol   \n",
       "7199     Tata  Nexon  XZ Plus DualTone Roof          2020    Petrol   \n",
       "\n",
       "        Control DrivenKms  Price  \n",
       "0        Manual    49,197   6.25  \n",
       "1        Manual    26,985   9.26  \n",
       "2        Manual    23,461  11.23  \n",
       "3        Manual    65,457   3.41  \n",
       "4        Manual    24,697  13.16  \n",
       "...         ...       ...    ...  \n",
       "7195  Automatic    80,000  18.50  \n",
       "7196  Automatic    50,000   6.88  \n",
       "7197  Automatic    55,000  35.00  \n",
       "7198  Automatic    36,200  12.60  \n",
       "7199     Manual    40,000   9.75  \n",
       "\n",
       "[7200 rows x 8 columns]"
      ]
     },
     "execution_count": 214,
     "metadata": {},
     "output_type": "execute_result"
    }
   ],
   "source": [
    "df=pd.DataFrame({'Brand':brand[3700:],'Model':model[3700:],'Variant':variant[3700:],'ManufactureYr':manufacture_yr[3700:],'Fuel type':fuel[3700:],'Control':control[3700:],'DrivenKms':driven_kms[3700:],'Price':price[3700:]})\n",
    "df"
   ]
  },
  {
   "cell_type": "code",
   "execution_count": 215,
   "id": "76560fa7",
   "metadata": {},
   "outputs": [],
   "source": [
    "df.to_csv('carPrediction.csv')"
   ]
  },
  {
   "cell_type": "code",
   "execution_count": null,
   "id": "497fc4e5",
   "metadata": {},
   "outputs": [],
   "source": []
  }
 ],
 "metadata": {
  "kernelspec": {
   "display_name": "Python 3 (ipykernel)",
   "language": "python",
   "name": "python3"
  },
  "language_info": {
   "codemirror_mode": {
    "name": "ipython",
    "version": 3
   },
   "file_extension": ".py",
   "mimetype": "text/x-python",
   "name": "python",
   "nbconvert_exporter": "python",
   "pygments_lexer": "ipython3",
   "version": "3.9.7"
  }
 },
 "nbformat": 4,
 "nbformat_minor": 5
}
